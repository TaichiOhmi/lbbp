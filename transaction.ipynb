{
 "cells": [
  {
   "cell_type": "markdown",
   "metadata": {},
   "source": [
    "# ビットコインブロックチェーンのトランザクション\n",
    "\n",
    "ビットコインのブロックチェーンにおけるトランザクションは input と output、その他の関連するデータから構成されています。\n",
    "\n",
    "## ビットコインにおけるトランザクションデータの構造\n",
    "\n",
    "ビットコインにおいてトランザクションデータの作成と管理はブロックチェーン技術における非常に重要な部分を占める。  \n",
    "トランザクションはどの金額が、どのように送金されたのかを表現するデータのこと。  \n",
    "トランザクションデータ自体には、誰から誰にと言った個人を特定するデータは含まれていないが、秘密鍵や公開鍵を用いた電子署名を使うことで所有権を証明する。  \n",
    "ブロックチェーンはブロック同士が数珠状につながることで前後の依存関係を形成し全体の整合性を保つのに対し、トランザクションデータも同じく数珠のように連鎖する構造をしており、主に input と output から構成されている。\n"
   ]
  },
  {
   "cell_type": "code",
   "execution_count": 13,
   "metadata": {},
   "outputs": [
    {
     "data": {
      "text/html": [
       "<div>\n",
       "<style scoped>\n",
       "    .dataframe tbody tr th:only-of-type {\n",
       "        vertical-align: middle;\n",
       "    }\n",
       "\n",
       "    .dataframe tbody tr th {\n",
       "        vertical-align: top;\n",
       "    }\n",
       "\n",
       "    .dataframe thead th {\n",
       "        text-align: right;\n",
       "    }\n",
       "</style>\n",
       "<table border=\"1\" class=\"dataframe\">\n",
       "  <thead>\n",
       "    <tr style=\"text-align: right;\">\n",
       "      <th></th>\n",
       "      <th>フィールド名</th>\n",
       "      <th>サイズ(バイト)</th>\n",
       "      <th>内容</th>\n",
       "    </tr>\n",
       "  </thead>\n",
       "  <tbody>\n",
       "    <tr>\n",
       "      <th>0</th>\n",
       "      <td>Version</td>\n",
       "      <td>4</td>\n",
       "      <td>従っているルールを指定。通常は１。トランザクションの試用期間に制約をかける場合は２が指定される</td>\n",
       "    </tr>\n",
       "    <tr>\n",
       "      <th>1</th>\n",
       "      <td>Input counter</td>\n",
       "      <td>1~9</td>\n",
       "      <td>このトランザクションデータに含まれているアウトプットデータの数</td>\n",
       "    </tr>\n",
       "    <tr>\n",
       "      <th>2</th>\n",
       "      <td>Inputs</td>\n",
       "      <td>可変</td>\n",
       "      <td>インプットデータのリスト</td>\n",
       "    </tr>\n",
       "    <tr>\n",
       "      <th>3</th>\n",
       "      <td>Output counter</td>\n",
       "      <td>1~9</td>\n",
       "      <td>このトランザクションデータに含まれているアウトプットデータの数</td>\n",
       "    </tr>\n",
       "    <tr>\n",
       "      <th>4</th>\n",
       "      <td>Outputs</td>\n",
       "      <td>可変</td>\n",
       "      <td>アウトプットデータのリスト</td>\n",
       "    </tr>\n",
       "    <tr>\n",
       "      <th>5</th>\n",
       "      <td>Locktime</td>\n",
       "      <td>4</td>\n",
       "      <td>ここで値を設定すれば、ブロックに格納される時間をしているすことができる</td>\n",
       "    </tr>\n",
       "  </tbody>\n",
       "</table>\n",
       "</div>"
      ],
      "text/plain": [
       "           フィールド名 サイズ(バイト)                                               内容\n",
       "0         Version        4  従っているルールを指定。通常は１。トランザクションの試用期間に制約をかける場合は２が指定される\n",
       "1   Input counter      1~9                  このトランザクションデータに含まれているアウトプットデータの数\n",
       "2          Inputs       可変                                     インプットデータのリスト\n",
       "3  Output counter      1~9                  このトランザクションデータに含まれているアウトプットデータの数\n",
       "4         Outputs       可変                                    アウトプットデータのリスト\n",
       "5        Locktime        4              ここで値を設定すれば、ブロックに格納される時間をしているすことができる"
      ]
     },
     "execution_count": 13,
     "metadata": {},
     "output_type": "execute_result"
    }
   ],
   "source": [
    "import pandas as pd\n",
    "list = [\n",
    "    ['Version', 4, '従っているルールを指定。通常は１。トランザクションの試用期間に制約をかける場合は２が指定される'],\n",
    "    ['Input counter', '1~9', 'このトランザクションデータに含まれているアウトプットデータの数'],\n",
    "    ['Inputs', '可変', 'インプットデータのリスト'],\n",
    "    ['Output counter', '1~9', 'このトランザクションデータに含まれているアウトプットデータの数'],\n",
    "    ['Outputs', '可変', 'アウトプットデータのリスト'],\n",
    "    ['Locktime', 4, 'ここで値を設定すれば、ブロックに格納される時間をしているすことができる']\n",
    "]\n",
    "df = pd.DataFrame(list, columns=['フィールド名', 'サイズ(バイト)', '内容'])\n",
    "df\n"
   ]
  },
  {
   "cell_type": "markdown",
   "metadata": {},
   "source": [
    "## 実際のトランザクションデータを確認\n",
    "このデータはフルノードクライアントである「BitcoinCore」を利用して立てたフルノードで取得したデータ。なお、トランザクションIDは全てのトランザクションデータに一意に設定されている。"
   ]
  },
  {
   "cell_type": "markdown",
   "metadata": {},
   "source": [
    "0000000245d50a313eb89a71bb501380334e58973b7b3c0fb4614f8645d07d728b8574aa010000008c493046022100b3c7f1c56384c6145673b94fa226af8d02a263a1ed9f3505fdf0e94cc681193e022100d677  eb3cbb9b82da961626ccfdc31a6041195123ae236b5ed1a34250c4163e73014104545e7c6d2acc161567860039bc3068d4af5432b1afe34d2909bf8996b95c10a6445692bc3f458a0503c45084f99329d5e90d84  f21a52a5d11add62eb26340db2ffffffff49de1cd30c20d1f22a2e966b0d195d20b0f133e8de426f7d1610525a64a09daf000000008b483045022100d4ea6ce46296548d38f02da337daebef00f443134f3b68f4ad8  946a961728b0402207573dc96e324037d1934fa5105a517608364a2b273e694dce53714745fa135f4014104e89667c1c2cf4eb91324debcc7742b8eb22406c59d6033794124efb7cce37b78ddd5e3c3474aeb  9dbf7689c9d36d776b7d21debe4d75142cb43a2529fb3a6da4ffffffff0100286bee00000001976a914c1ac9042b50a9d2e7a6a1b42bad66e61a9ec3f6b88ac00000000"
   ]
  },
  {
   "cell_type": "markdown",
   "metadata": {},
   "source": [
    "上のデータは１６進数でシリアライズされたデータである点に注意する必要がある。  \n",
    "このままでは可読性が低いですが、JSON形式に変換するともう少し見やすくなる。"
   ]
  },
  {
   "cell_type": "code",
   "execution_count": null,
   "metadata": {},
   "outputs": [],
   "source": [
    "{\n",
    "    # このトランザクションのID。トランザクションにはそれぞれ一意にIDが設定されている。\n",
    "  \"txid\": \"0e942bb178dbf7ae40d36d238d559427429641689a379fc43929f15275a75fa6\",    　\n",
    "  \"hash\": \"0e942bb178dbf7ae40d36d238d559427429641689a379fc43929f15275a75fa6\",\n",
    "  \"version\": 1,\n",
    "  \"size\": 405,\n",
    "  \"vsize\": 405,\n",
    "  \"weight\": 1620,\n",
    "  \"locktime\": 0,\n",
    "\n",
    "  # vin と vout がそれぞれトランザクションのインプットデータとアウトプットデータ\n",
    "\n",
    "  # インプットデータ部分\n",
    "  # この例では、２つのデータが配列に格納されている。\n",
    "  # txid と vout を利用することで、どのトランザクションの、どのアウトプットデータを参照しているのかを一意に定めることができる。\n",
    "  \"vin\": [\n",
    "    {\n",
    "        # txid の部分で参照する トランザクションID を指定\n",
    "      \"txid\": \"aa74858b727dd045864f61b40f3c7b3b97584e33801350bb719ab83e310ad545\",\n",
    "       # vout の部分で何番目のアウトプットデータを使っているのかを指定。\n",
    "      \"vout\": 1,\n",
    "      \"scriptSig\": {\n",
    "        \"asm\": \"3046022100b3c7f1c56384c6145673b94fa226af8d02a263a1ed9f3505fdf0e94cc681193e022100d677eb3cbb9b82da961626ccfdc31a6041195123ae236b5ed1a34250c4163e73[ALL] 04545e7c6d2acc161567860039bc3068d4af5432b1afe34d2909bf8996b95c10a6445692bc3f458a0503c45084f99329d5e90d84f21a52a5d11add62eb26340db2\"\n",
    "        \"hex\": \"493046022100b3c7f1c56384c6145673b94fa226af8d02a263a1ed9f3505fdf0e94cc681193e022100d677eb3cbb9b82da961626ccfdc31a6041195123ae236b5ed1a34250c4163e73014104545e7c6d2acc161567860039bc3068d4af5432b1afe34d2909bf8996b95c10a6445692bc3f458a0503c45084f99329d5e90d84f21a52a5d11add62eb26340db2\"\n",
    "      },\n",
    "      \"sequence\": 4294967295\n",
    "    },\n",
    "    {\n",
    "      \"txid\": \"af9da0645a5210167d6f42dee833f1b0205d190d6b962e2af2d1200cd31cde49\",\n",
    "      \"vout\": 0,\n",
    "      \"scriptSig\": {\n",
    "        \"asm\": \"3045022100d4ea6ce46296548d38f02da337daebef00f443134f3b68f4ad8946a961728b0402207573dc96e324037d1934fa5105a517608364a2b273e694dce53714745fa135f4[ALL] 04e89667c1c2cf4eb91324debcc7742b8eb22406c59d6033794124efb7cce37b78ddd5e3c3474aeb9dbf7689c9d36d776b7d21debe4d75142cb43a2529fb3a6da4\",\n",
    "        \"hex\": \"483045022100d4ea6ce46296548d38f02da337daebef00f443134f3b68f4ad8946a961728b0402207573dc96e324037d1934fa5105a517608364a2b273e694dce53714745fa135f4014104e89667c1c2cf4eb91324debcc7742b8eb22406c59d6033794124efb7cce37b78ddd5e3c3474aeb9dbf7689c9d36d776b7d21debe4d75142cb43a2529fb3a6da4\"\n",
    "      },\n",
    "      \"sequence\": 4294967295\n",
    "    }\n",
    "  ],\n",
    "\n",
    "  # アウトプットデータの部分。\n",
    "  # この例だと、１つだけ格納されている。\n",
    "  # 金額や送金先のアドレスなどが含まれている、\n",
    "  \"vout\": [\n",
    "    {\n",
    "      \"value\": 40.00000000,\n",
    "      \"n\": 0,\n",
    "      \"scriptPubKey\": {\n",
    "          \"asm\": \"OP_DUP OP_HASH160 c1ac9042b50a9d2e7a6a1b42bad66e61a9ec3f6b OPEQUALVERIFY OP_CHECKSIG\",\n",
    "          \"hex\": \"76a914c1ac9042b50a9d2e7a6a1b42bad66e61a9ec3f6b88ac\",\n",
    "          \"reqSigs\": 1,\n",
    "          \"type\": \"pubkeyhas\",\n",
    "          \"addresses\": [\n",
    "              \"1Jf48wufcDpPQ2EEgX1jUULuTHVzDhqBSF\"\n",
    "          ]\n",
    "      }\n",
    "    }\n",
    "  ]\n",
    "}"
   ]
  },
  {
   "cell_type": "markdown",
   "metadata": {},
   "source": [
    "## トランザクションデータの取得\n",
    "上のトランザクションデータは、BitcoinCoreでフルノードを立て取得したデータでしたが、わざわざフルノードを立てなくとも公開APIを取得することでデータを取得できる。  \n",
    "まず、今回は blockchain.info というWebサービスの公開APIを利用する。(smartbit などのサービスも利用可能)  \n",
    "このように公開APIを利用すれば、自前で全てのデータを持ち合わせなくとも必要なデータを取得できる。  \n",
    "Pythonでは、requests というサードパーティ製のパッケージを利用してAPIを利用する。  \n",
    "このパッケージは簡単にHTTP通信を行うことができ、公開APIのURLを指定することでデータを提供したり取得することができる。"
   ]
  },
  {
   "cell_type": "code",
   "execution_count": 17,
   "metadata": {},
   "outputs": [
    {
     "name": "stdout",
     "output_type": "stream",
     "text": [
      "010000000245d50a313eb89a71bb501380334e58973b7b3c0fb4614f8645d07d728b8574aa010000008c493046022100b3c7f1c56384c6145673b94fa226af8d02a263a1ed9f3505fdf0e94cc681193e022100d677eb3cbb9b82da961626ccfdc31a6041195123ae236b5ed1a34250c4163e73014104545e7c6d2acc161567860039bc3068d4af5432b1afe34d2909bf8996b95c10a6445692bc3f458a0503c45084f99329d5e90d84f21a52a5d11add62eb26340db2ffffffff49de1cd30c20d1f22a2e966b0d195d20b0f133e8de426f7d1610525a64a09daf000000008b483045022100d4ea6ce46296548d38f02da337daebef00f443134f3b68f4ad8946a961728b0402207573dc96e324037d1934fa5105a517608364a2b273e694dce53714745fa135f4014104e89667c1c2cf4eb91324debcc7742b8eb22406c59d6033794124efb7cce37b78ddd5e3c3474aeb9dbf7689c9d36d776b7d21debe4d75142cb43a2529fb3a6da4ffffffff0100286bee000000001976a914c1ac9042b50a9d2e7a6a1b42bad66e61a9ec3f6b88ac00000000\n"
     ]
    }
   ],
   "source": [
    "import requests\n",
    "\n",
    "API_URL = \"https://blockchain.info/rawtx/\"\n",
    "TXID = \"0e942bb178dbf7ae40d36d238d559427429641689a379fc43929f15275a75fa6\"\n",
    "\n",
    "r = requests.get(API_URL + TXID + \"?format=hex\")\n",
    "print(r.text)"
   ]
  },
  {
   "cell_type": "code",
   "execution_count": 18,
   "metadata": {},
   "outputs": [
    {
     "name": "stdout",
     "output_type": "stream",
     "text": [
      "{\"hash\":\"0e942bb178dbf7ae40d36d238d559427429641689a379fc43929f15275a75fa6\",\"ver\":1,\"vin_sz\":2,\"vout_sz\":1,\"size\":405,\"weight\":1620,\"fee\":0,\"relayed_by\":\"0.0.0.0\",\"lock_time\":0,\"tx_index\":5853752370814501,\"double_spend\":false,\"time\":1298920129,\"block_index\":111111,\"block_height\":111111,\"inputs\":[{\"sequence\":4294967295,\"witness\":\"\",\"script\":\"493046022100b3c7f1c56384c6145673b94fa226af8d02a263a1ed9f3505fdf0e94cc681193e022100d677eb3cbb9b82da961626ccfdc31a6041195123ae236b5ed1a34250c4163e73014104545e7c6d2acc161567860039bc3068d4af5432b1afe34d2909bf8996b95c10a6445692bc3f458a0503c45084f99329d5e90d84f21a52a5d11add62eb26340db2\",\"index\":0,\"prev_out\":{\"tx_index\":2457001643202323,\"value\":500000000,\"n\":1,\"type\":0,\"spent\":true,\"script\":\"76a91471c4f6b0f56fef3cbdbae6f297631a27ab159f9888ac\",\"spending_outpoints\":[{\"tx_index\":5853752370814501,\"n\":0}],\"addr\":\"1BNZJx7pM4GTqe8MgEZoji2fUS3fKnJH2i\"}},{\"sequence\":4294967295,\"witness\":\"\",\"script\":\"483045022100d4ea6ce46296548d38f02da337daebef00f443134f3b68f4ad8946a961728b0402207573dc96e324037d1934fa5105a517608364a2b273e694dce53714745fa135f4014104e89667c1c2cf4eb91324debcc7742b8eb22406c59d6033794124efb7cce37b78ddd5e3c3474aeb9dbf7689c9d36d776b7d21debe4d75142cb43a2529fb3a6da4\",\"index\":1,\"prev_out\":{\"tx_index\":2598986085139482,\"value\":3500000000,\"n\":0,\"type\":0,\"spent\":true,\"script\":\"76a9144be0a14399e3aad60a761f2e3f658902548423e788ac\",\"spending_outpoints\":[{\"tx_index\":5853752370814501,\"n\":1}],\"addr\":\"17vCmx3McuR3Z7ch2Nz83EoJN9J9p1dvdy\"}}],\"out\":[{\"type\":0,\"spent\":false,\"value\":4000000000,\"spending_outpoints\":[],\"n\":0,\"tx_index\":5853752370814501,\"script\":\"76a914c1ac9042b50a9d2e7a6a1b42bad66e61a9ec3f6b88ac\",\"addr\":\"1Jf48wufcDpPQ2EEgX1jUULuTHVzDhqBSF\"}]}\n"
     ]
    }
   ],
   "source": [
    "import requests\n",
    "\n",
    "API_URL = \"https://blockchain.info/rawtx/\"\n",
    "TXID = \"0e942bb178dbf7ae40d36d238d559427429641689a379fc43929f15275a75fa6\"\n",
    "\n",
    "r = requests.get(API_URL + TXID)\n",
    "print(r.text)"
   ]
  },
  {
   "cell_type": "markdown",
   "metadata": {},
   "source": [
    "# UTXO\n",
    "ビットコインでトランザクションを管理するための重要概念としてUTXOが利用されている。  \n",
    "`UTXO`は　Unspent Transaction Output の略で、未使用のトランザクションアウトプットの意味。  \n",
    "ビットコインにおけるトランザクションでは UTXO を利用することで取引を管理する。  \n",
    "UTXOには複数に分割することができないという特徴があり、これは１０００円札を半分にしても５００円にならないのと同じイメージ。  \n",
    "ユーザーが送金を行い、トランザクションを組成する際には、UTXOをかき集め、支払いたい金額より大きくなるようにする。支払い金額より大きくなった場合、おつり文を新しいアドレスに新しいUTXOを作り紐づけることで管理する。  \n",
    "この時、消費されたUTXOはトランザクションインプットとして、生成されたUTXOはトランザクションアウトプットとしてトランザクションデータが生成される。  \n",
    "  \n",
    "上のトランザクションデータの場合、vout に格納されているアウトプットデータが利用されていない場合、これが UTXO になる。  \n",
    "また、vin に格納されている２つのインプットデータはこのトランザクションが組成される時点では、UTXOだったということがわかる。 \n",
    "\n",
    "## アカウントベース方式とUTXO方式\n",
    "ブロックチェーンにおける仮想通貨やトークンの残高を管理する方式には大きく`アカウントベース方式`と`UTXO方式`がある。  \n",
    "アカウントベース方式は、それぞれのアカウントがどれだけの金額を持っていて、そこにどれだけの金額が出入りしたのかを管理する方式。一般的な銀行口座と同じイメージで、イーサリアムではこの方式が採用されている。  \n",
    "UTXO方式では、残高を計算する際に、利用されていないアウトプットデータをネットワーク上からかき集めることで算出する方式。ビットコインのブロックチェーンで採用されている。ただ、ビットコインには残高という概念がそもそも存在していないので、ウォレットがユーザーの利便性を高めるために便宜上、残高という言葉を用いている。  \n",
    "アカウントベース方式とUTXO方式にはそれぞれ長短があるため、一概にはどちらが良いとは言えない。  \n",
    "例えば、アカウントベース方式には、単純であるため実装が簡単な上、スマートコントラクトで複雑な処理が扱いやすくなるメリットがある一方で、匿名性を高くすることが難しいという特徴がある。  \n",
    "反対に、UTXO方式では、匿名性を高くできて拡張性を確保することが容易になるメリットがあり、二重支払い防止にも有効とされているが、実装の難易度が上がってしまう欠点がある。　　"
   ]
  },
  {
   "cell_type": "code",
   "execution_count": 21,
   "metadata": {},
   "outputs": [
    {
     "data": {
      "text/html": [
       "<div>\n",
       "<style scoped>\n",
       "    .dataframe tbody tr th:only-of-type {\n",
       "        vertical-align: middle;\n",
       "    }\n",
       "\n",
       "    .dataframe tbody tr th {\n",
       "        vertical-align: top;\n",
       "    }\n",
       "\n",
       "    .dataframe thead th {\n",
       "        text-align: right;\n",
       "    }\n",
       "</style>\n",
       "<table border=\"1\" class=\"dataframe\">\n",
       "  <thead>\n",
       "    <tr style=\"text-align: right;\">\n",
       "      <th></th>\n",
       "      <th>アカウントベース方式</th>\n",
       "      <th>UTXO方式</th>\n",
       "    </tr>\n",
       "  </thead>\n",
       "  <tbody>\n",
       "    <tr>\n",
       "      <th>長所</th>\n",
       "      <td>実装が簡単で複雑な処理が扱いやすい</td>\n",
       "      <td>匿名性やスケーラビリティを高めやすく、二重支払いを防止しやすい</td>\n",
       "    </tr>\n",
       "    <tr>\n",
       "      <th>短所</th>\n",
       "      <td>匿名性を高めにくい</td>\n",
       "      <td>実装が複雑になる</td>\n",
       "    </tr>\n",
       "  </tbody>\n",
       "</table>\n",
       "</div>"
      ],
      "text/plain": [
       "           アカウントベース方式                           UTXO方式\n",
       "長所  実装が簡単で複雑な処理が扱いやすい  匿名性やスケーラビリティを高めやすく、二重支払いを防止しやすい\n",
       "短所          匿名性を高めにくい                         実装が複雑になる"
      ]
     },
     "execution_count": 21,
     "metadata": {},
     "output_type": "execute_result"
    }
   ],
   "source": [
    "import pandas as pd\n",
    "list = [\n",
    "    ['実装が簡単で複雑な処理が扱いやすい', '匿名性やスケーラビリティを高めやすく、二重支払いを防止しやすい'],\n",
    "    ['匿名性を高めにくい', '実装が複雑になる'],\n",
    "]\n",
    "df = pd.DataFrame(list, columns=['アカウントベース方式', 'UTXO方式'], index=['長所', '短所'])\n",
    "df\n"
   ]
  },
  {
   "cell_type": "markdown",
   "metadata": {},
   "source": [
    "## UTXOを取得してみる\n",
    "今回は blockchain.info のAPIを利用する。  \n",
    "UTXOはアドレスに紐づいているため、特定のアドレスを指定しなければいけないことに注意。  \n",
    "ここではビットコインのクライアントである　Bitcoin Core を開発している Bitcoin.org が公開しているアドレスを使用する。"
   ]
  },
  {
   "cell_type": "code",
   "execution_count": 30,
   "metadata": {},
   "outputs": [
    {
     "name": "stdout",
     "output_type": "stream",
     "text": [
      "85個のUTXOが見つかったよ!!\n",
      "03a372e92a86cd4a84cb18b8e4654cf612ad6352e5527891585a208eb30c1331:19787 satoshis\n",
      "840d57e3950991da7c6671ff64f0e824afe3d88611498b849687eedba7561f7f:66268 satoshis\n",
      "5347465d51b4d082b709f9fbd994fe6c1fca75ab24ab9711e57685cdec2999c7:3290 satoshis\n",
      "e6dd73258294640fdfc9139d7c36f1cdde28b2362d0a743bf574be52685f65b9:3838 satoshis\n",
      "5e99dd717e5e927afece6fba858a021d8deb9df2aafbfdf6bb8c3517ac877923:101686 satoshis\n",
      "0e6949133d4f21669f39eb49eb8ee9359bee238f630271ad51bc865adbeff6e0:1524593 satoshis\n",
      "3b30f184c5a734c973f0cb57290a5c7bf6b8a02be0138b4d931ad2e319b928fb:26505 satoshis\n",
      "2c16a20f4178550c94eddf478350b5698dd846dc6406589dcdb2fa9538e5c367:6724 satoshis\n",
      "adb9e5af4e08e491a5b33d286d3afa16ebf56708a640cf53d91c01ee757bac68:41792 satoshis\n",
      "64c6646cfed5b2d42f0ddd88028a0dac53a7a90f96f67ed7e105958b6d06b35d:84658 satoshis\n",
      "ff6a21481477b74e12b3440535b73c0b3df1a9e0a87e1def4a552d8a82b0af4b:62965 satoshis\n",
      "edb172af5a2fe3acf3f311254d1c240f743c7c130ff8ac68919d5ac3bb7b7fc0:63401 satoshis\n",
      "26f38fdf7910943916b0f626151930f921a2912ed8ea25f5cd014c634f4877c1:98246 satoshis\n",
      "0e0cc39cf34828d5a4f2f9f513cea963fada78b17ec26f75e0330675554fd35a:33548 satoshis\n",
      "a01984e72867cb264d5ca4045037b34cb55001933bfec04f94e2b9850abb07cf:69362 satoshis\n",
      "704a7aa21fad1d1e6daf0ca9949a8db88f1b7925c9515f944e459bbb341b4c88:17366 satoshis\n",
      "eb29117d9fe320b4849f0c8183e7fc87b503dc79b48321504472e48c7540b585:34251 satoshis\n",
      "06b20cc275f1f1a7dd77eb0456ba8dd3b83a8a9e55e105e5e48bfdbdd55d40d2:91000 satoshis\n",
      "785ba6cff6d26a2a4cb7aef65b7342858c52e233e2fdeb2a2a0ec42f7cc45192:28643 satoshis\n",
      "4e99abeffcd21ee7ed8d07d1da8879f562b294b856098186a931b3a6312ceac7:2042 satoshis\n",
      "7b143ef1f63309786537b3e0a4fcb1362ecb8621126a1cf794c417c994bfedc4:16029 satoshis\n",
      "7f8fa230cea44b0acc24133dd1ef53a9301ed3cf2b1ac7da43337ccba5e3641e:44787 satoshis\n",
      "bc3dded9306717e3d53cbf8e9115a43864b13f3504fc9ff69485c81597a22277:10889 satoshis\n",
      "d3e502b523d2aca414188ada30d78b68ad49d4e95ad5292dc398c45305ee96d9:51407 satoshis\n",
      "b29c5e3c131bb924b82e31a6dbe70671dd216be64e534e0b73831096f0ab0d77:33371 satoshis\n",
      "a155b66419640441deb4c223ff5165b6c33a918e4b2551752a9c7af0dfeb283d:76168 satoshis\n",
      "8129ebdb470e1e911acc2f10010566ce1120de6a7e604b29f6e6de23f428fa36:38633 satoshis\n",
      "8bd3bea12a92a4145c1c71d2f53b1c15a12848bf96173047741296d067c0d10d:3598 satoshis\n",
      "24c9d66e2cde1ed6ae087aedfe2b6c3738637f42bb78078c420119c2b183c6e9:6568 satoshis\n",
      "8677d639b45df1a414d0e13ec8e860bf53a194a6e6807875071df1b4b945642d:46507 satoshis\n",
      "2ff3e0215d3537850f06186b04528664a73f4043addbd1f18b766a2fa8896265:377911 satoshis\n",
      "eb3891f41c5e10606bdca9d1fa320a1c9a090938374c650857abfc31e8385dd3:2742 satoshis\n",
      "40c579b2512ee2fb8d0fcc1be3330b373ad2d4177978f4a35aa372151922062c:65320 satoshis\n",
      "1b3fe1756586ce6818096edeff20a4a5e1e6ec2c4eeb28cc44aa769dcbeb0407:2596 satoshis\n",
      "35dc9878879816daa6d145bbe04f2ceb0c7dc8af179fb22b07cf487ae4ee363b:13029 satoshis\n",
      "df4049ec63053ee0a51295e8c8140110f1096a3b548bb92d82feeebce9c6b5b5:20332 satoshis\n",
      "13f93f2a73e8a1bbd142acf1c5b2c4e997daab81be7d6f65ebdae2e41d6c5c97:3210 satoshis\n",
      "538641b164764206b8950db6a46d4c75cf341fa5667345ce0d567fc1d935fea9:16951 satoshis\n",
      "bbf9e990e2924a9f1458cf060e389216dda65e279af2a62ae28f775418022070:6665 satoshis\n",
      "408854e7bf839841c1607e3f2f87b44c6776eebd22355e74de6ad6177821191f:31917 satoshis\n",
      "039ec1546f788cff2e36b400134b9020bb263899e730185c90d7a1db6e276b9d:110059 satoshis\n",
      "f0e0c6ea96c7d353867bfa3a4c92d6c6d928c142564a1758be93da5f75d24442:5913 satoshis\n",
      "ca49b8a07c3d811a61da4a64cfa56d328c254f8ebc015a224323dd5678e7cead:50575 satoshis\n",
      "808cc0fefcf04a906ab946a0dfbdb846321a2af4ee545a4c35acb67a49948c79:64963 satoshis\n",
      "6b9fafd31e2bb2b973fd3ad3bdffe64dea2679586fe944f8fc10eef50cb05c5c:54365 satoshis\n",
      "db13d518b03bf06beab03419d5e233896435ef966814947b061583ebb92f8975:81000 satoshis\n",
      "ebce498730d98a7db92dc7441a0c210aa6d3f11c883b367644a15166332fdc33:10618 satoshis\n",
      "fbf33d47a99001a8071cc0019553513dcba1a737da99227e77764d8ef96b9ec9:18181 satoshis\n",
      "e71c19e0356a210911a2b019cb32e51831ea1b755f90ab47b39503b47562722b:38975 satoshis\n",
      "d01ffef47cf292517c90bc7ebde024011c2ef7a6f8031ac2a86518443ce607d7:83077 satoshis\n",
      "4148dfd0a237afa23984518261aa31929f7b821960c582fdd1761eed63cb64d0:27115 satoshis\n",
      "a17ee9aab6a751d7ed8ebd7a091e5a35f96433922f0894943c626770a4c1463b:91910 satoshis\n",
      "d6802475f59c66ac37015389bca1ffe4f4badc1f9c9907707ee35fd82b21efc1:12088 satoshis\n",
      "8f74f0117a5d36d5e28b1077f8a8f00a6897e2c2d45da89af97b6379940ac1a8:29840 satoshis\n",
      "3c8c53a0bb7753cbe1e97590b349ae68fb0bee6315d4baa5c4ea5bfd8b15fd5c:63435 satoshis\n",
      "e3767850ae99dc70639b6481f2dd343a56ef1b87a070c7a8e031c1adf6ba46f3:784059 satoshis\n",
      "dc167dfc40a3da229020692bd5aa3defecde2df9ca0f72cf6e3c565d8afb814c:130087 satoshis\n",
      "2fce8102d2519f812e3be3a4a1dce9a73e0b9736271555956062fc30f11e8b00:63026 satoshis\n",
      "6b72dc861286fdbc1e0daae9e6332a2cfda5ff171138b6f0d3945b34a24cb01d:141000 satoshis\n",
      "050cee3e5d40baa808bbdc6717227d1ca0b5e48025d2ea85306e2db960f9bf45:670950 satoshis\n",
      "56f4efd6b5b27598eb6817ec50513b967a1881f3657e0a15007cc4745937aac3:140000 satoshis\n",
      "03c7d0c3a9d4d8db37c3e0691e5ebbe9a6d362fe83624aecfca1a4a7e23c7ce3:9156 satoshis\n",
      "283018a4fc51d65ad43ac4b7f24c384ea0592d3b86f78dbc72bd84686dfcb776:12344 satoshis\n",
      "c5452a0afbcb7b2e223e56ac6795ff30411aba878d1a0368d28f3e0f44cd5b84:21023 satoshis\n",
      "5a594f89da0848d24b21f3e0a9adb231391df02a808898f32b61eb2bf5235ba5:8819 satoshis\n",
      "af203d8b89f6454eb20ffab8560f7da6743e77966e06fb23db5393a09256edfd:67288 satoshis\n",
      "f4ad0df7c3ee8d9bcade6900efbbbd08b4f70ff7da8a274d886ddc4aef0aae76:126533 satoshis\n",
      "366c8e7f8a600bc004685bcea3ed1019ba04bbc663c4841857caf2b2ac423f21:5074 satoshis\n",
      "a0d4b164408f899ff5ffbecbe72fd9628d1fa25f58a5f8eec9d84b29c436e82f:53620 satoshis\n",
      "10ee880c734f16023e22de9f2e9de60c1796d29e45ad123b73670155ddf60386:10610 satoshis\n",
      "bf94855c5e25b02518103b9650e0ab2c025bc4351e9063ab0f0109f79c5ee9a2:324853 satoshis\n",
      "be678c9f94ca9871ff5231a60469bfb55fdd8977bc66412a78c9a6f2f6aac26f:286456 satoshis\n",
      "73c786615f5bf93d96f1fc3b2e37ad38f7fa28695dd1aeb6198a77dd3c2d00a3:60627 satoshis\n",
      "54e25941f3d7986dce4a0de3c21288f7b2bd88f7410ef614c248603ecb6937b1:10000 satoshis\n",
      "7d65729acac4738c9771fccd0cc019092deec3ca08a90d144898be27b66704b7:58100 satoshis\n",
      "bf1e609f326fa326b2e34e2ec22fee4fae588aa40c8f9f102abac39df22fbaa1:124967 satoshis\n",
      "be8b7aa71646c8f296c09a387543f0a9991807d03604485899435071309524bf:143497 satoshis\n",
      "03742c570745d6dd6d21d02b24f78df8bf25a43bb18d8abdd47ec5223a791790:32656 satoshis\n",
      "bf9fc3445455ed2fd0ef65692371500d43d5aa8f1fb8f8474d469dfd46e9b73f:10338 satoshis\n",
      "9daed0002790c0f5880add529b21ee1a117a621af7ba8b3c0596c8e9514dbe73:12598 satoshis\n",
      "eedd3f6eef78ad00e46993e3e2c22a7efccfd792dca9401cbe3f2a3f146647f8:24877 satoshis\n",
      "bcb18bb570db891fad895ae1e1e6d59fdf9f727399e3d3282a240e1d03d93bf4:23955 satoshis\n",
      "e04b2245c8ed24b595b3b5f38c6e5e28ba0163843406cc41a94271618dc69f74:43092 satoshis\n",
      "07f8a3023597a8260f762be170ddb263f0352e9b7aec605ec1859fb538daa760:106020 satoshis\n",
      "c8fc1a7c9414194e52226a1f451592e44f900247a448b1b7e9f01226d6faa37c:6549 satoshis\n"
     ]
    }
   ],
   "source": [
    "import json\n",
    "import requests\n",
    "\n",
    "address = \"3E8ociqZa9mZUSwGdSmAEMAoAxBK3FNDcd\"\n",
    "# address2 = \"1A8JiWcwvpY7tAopUkSnGuEYHmzGYfZPiq\"\n",
    "# address3 = \"1MDUoxL1bGvMxhuoDYx6i11ePytECAk9QK\"\n",
    "\n",
    "# res = requests.get(\"https://blockchain.info/unspent?active=\" + address + \"|\" + address2 + \"|\" + address3)\n",
    "res = requests.get(\"https://blockchain.info/unspent?active=\" + address)\n",
    "utxo_list = json.loads(res.text)[\"unspent_outputs\"]\n",
    "\n",
    "print(str(len(utxo_list)) + \"個のUTXOが見つかったよ!!\")\n",
    "for utxo in utxo_list:\n",
    "    print(utxo['tx_hash'] + \":\" + str(utxo['value']) + \" satoshis\") # satoshis はビットコインの通貨の単位。1BTC=1億satoshis。"
   ]
  },
  {
   "cell_type": "markdown",
   "metadata": {},
   "source": [
    "これらは　3E8ociqZa9mZUSwGdSmAEMAoAxBK3FNDcd に紐づけられているUTXOの一覧であり、これからはパブリックチェーンであるビットコインのため、全くの第三者の情報であってこある程度は公開されていることがわかる。\n",
    "\n",
    "# コインベース取引\n",
    "マイニングに成功したマイナーはマイニング報酬を得ることができ、報酬を獲得する取引をコインベース取引と呼ぶ。  \n",
    "コインベース取引はこれまで扱ってきた取引とは異なる性質を持っている。  \n",
    "## コインベース取引\n",
    "トランザクションは input と output が連鎖しているが、その連鎖の始点はどのようになっているのか。その答えが`コインベース取引`である。  \n",
    "コインベース取引とは、マイニングに成功した際に受け取るマイニンング報酬を生成するためのトランザクションであり、他のトランザクションデータと異なり input の値を持たない。  \n",
    "つまり、消費するUTXOを持たない、ただ１つのトランザクション。  \n",
    "また、ネットワークにおけるすべてのUTXOの合計は、それまでに発行されているビットコインの合計である。  \n",
    "言い換えると、コインベース取引は、ビットコインのネットワークにおいて、UTXOの合計値が増加する唯一のタイミングと言うことができる。"
   ]
  },
  {
   "cell_type": "markdown",
   "metadata": {},
   "source": [
    "##### コインベース取引の生データ\n",
    "01000000010000000000000000000000000000000000000000000000000000000000000000ffffffff0704cd2d011b0112ffffffff0100f2052a010000004341047b8d  \n",
    "5e4b08e71b4e21edc71dc2b5040c0fc6cd1b8446500a95e44fce027d95d7bf74ad3f94e6068f2b94dd4daadcfffc7673044c71876b7e7061531b35b6a0a5ac00000000"
   ]
  },
  {
   "cell_type": "markdown",
   "metadata": {},
   "source": [
    "##### json形式に変換\n",
    "上で確認したトランザクションデータと比べると、インプット部分(vin部分)が異なっており、coinbaseと書かれていることがわかる。  \n",
    "coinbaseとはコインベース取引であることを示し、インプットとして参照するUTXOを持たないことを表している。"
   ]
  },
  {
   "cell_type": "code",
   "execution_count": null,
   "metadata": {},
   "outputs": [],
   "source": [
    "{\n",
    "  \"txid\": \"e7c6a5c20318e99e7a2fe7e9c534fae52d402ef6544afd85a0a1a22a8d09783a\",\n",
    "  \"hash\": \"e7c6a5c20318e99e7a2fe7e9c534fae52d402ef6544afd85a0a1a22a8d09783a\",\n",
    "  \"version\": 1,\n",
    "  \"size\": 134,\n",
    "  \"vsize\": 134,\n",
    "  \"weight\": 536,\n",
    "  \"locktime\": 0,\n",
    "  \"vin\": [\n",
    "    {\n",
    "      \"coinbase\": \"04cd2d011b0112\",\n",
    "      \"sequence\": 4294967295\n",
    "    }\n",
    "  ],\n",
    "  \"vout\": [\n",
    "    {\n",
    "      \"value\": 50.00000000,\n",
    "\n",
    "      \"n\": 0,\n",
    "      \"scriptPubKey\": {\n",
    "        \"asm\": \"047b8d5e4b08e71b4e21edc71dc2b5040c0fc6cd1b8446500a95e44fce027d95d7bf74ad3f94e6068f2b94dd4daadcfffc7673044c71876b7e7061531b35b6a0a5 OP_CHECKSIG\",\n",
    "        \"hex\": \"41047b8d5e4b08e71b4e21edc71dc2b5040c0fc6cd1b8446500a95e44fce027d95d7bf74ad3f94e6068f2b94dd4daadcfffc7673044c71876b7e7061531b35b6a0a5ac\",\n",
    "        \"reqSigs\": 1,\n",
    "        \"type\": \"pubkey\",\n",
    "        \"addresses\": [\n",
    "          \"1Jyv1RNBcfic1dQwDTRXNnsJ9Xxpvqcr27\"\n",
    "        ]\n",
    "      }\n",
    "    }\n",
    "  ]\n",
    "}"
   ]
  },
  {
   "cell_type": "markdown",
   "metadata": {},
   "source": []
  }
 ],
 "metadata": {
  "interpreter": {
   "hash": "aee8b7b246df8f9039afb4144a1f6fd8d2ca17a180786b69acc140d282b71a49"
  },
  "kernelspec": {
   "display_name": "Python 3.8.1 64-bit",
   "language": "python",
   "name": "python3"
  },
  "language_info": {
   "codemirror_mode": {
    "name": "ipython",
    "version": 3
   },
   "file_extension": ".py",
   "mimetype": "text/x-python",
   "name": "python",
   "nbconvert_exporter": "python",
   "pygments_lexer": "ipython3",
   "version": "3.8.1"
  },
  "orig_nbformat": 4
 },
 "nbformat": 4,
 "nbformat_minor": 2
}
