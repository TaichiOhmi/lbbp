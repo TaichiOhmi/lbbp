{
 "cells": [
  {
   "cell_type": "markdown",
   "metadata": {},
   "source": [
    "# ビットコインブロックチェーンのトランザクション\n",
    "\n",
    "ビットコインのブロックチェーンにおけるトランザクションは input と output、その他の関連するデータから構成されています。\n",
    "\n",
    "## ビットコインにおけるトランザクションデータの構造\n",
    "\n",
    "ビットコインにおいてトランザクションデータの作成と管理はブロックチェーン技術における非常に重要な部分を占める。  \n",
    "トランザクションはどの金額が、どのように送金されたのかを表現するデータのこと。  \n",
    "トランザクションデータ自体には、誰から誰にと言った個人を特定するデータは含まれていないが、秘密鍵や公開鍵を用いた電子署名を使うことで所有権を証明する。  \n",
    "ブロックチェーンはブロック同士が数珠状につながることで前後の依存関係を形成し全体の整合性を保つのに対し、トランザクションデータも同じく数珠のように連鎖する構造をしており、主に input と output から構成されている。\n"
   ]
  },
  {
   "cell_type": "code",
   "execution_count": 13,
   "metadata": {},
   "outputs": [
    {
     "data": {
      "text/html": [
       "<div>\n",
       "<style scoped>\n",
       "    .dataframe tbody tr th:only-of-type {\n",
       "        vertical-align: middle;\n",
       "    }\n",
       "\n",
       "    .dataframe tbody tr th {\n",
       "        vertical-align: top;\n",
       "    }\n",
       "\n",
       "    .dataframe thead th {\n",
       "        text-align: right;\n",
       "    }\n",
       "</style>\n",
       "<table border=\"1\" class=\"dataframe\">\n",
       "  <thead>\n",
       "    <tr style=\"text-align: right;\">\n",
       "      <th></th>\n",
       "      <th>フィールド名</th>\n",
       "      <th>サイズ(バイト)</th>\n",
       "      <th>内容</th>\n",
       "    </tr>\n",
       "  </thead>\n",
       "  <tbody>\n",
       "    <tr>\n",
       "      <th>0</th>\n",
       "      <td>Version</td>\n",
       "      <td>4</td>\n",
       "      <td>従っているルールを指定。通常は１。トランザクションの試用期間に制約をかける場合は２が指定される</td>\n",
       "    </tr>\n",
       "    <tr>\n",
       "      <th>1</th>\n",
       "      <td>Input counter</td>\n",
       "      <td>1~9</td>\n",
       "      <td>このトランザクションデータに含まれているアウトプットデータの数</td>\n",
       "    </tr>\n",
       "    <tr>\n",
       "      <th>2</th>\n",
       "      <td>Inputs</td>\n",
       "      <td>可変</td>\n",
       "      <td>インプットデータのリスト</td>\n",
       "    </tr>\n",
       "    <tr>\n",
       "      <th>3</th>\n",
       "      <td>Output counter</td>\n",
       "      <td>1~9</td>\n",
       "      <td>このトランザクションデータに含まれているアウトプットデータの数</td>\n",
       "    </tr>\n",
       "    <tr>\n",
       "      <th>4</th>\n",
       "      <td>Outputs</td>\n",
       "      <td>可変</td>\n",
       "      <td>アウトプットデータのリスト</td>\n",
       "    </tr>\n",
       "    <tr>\n",
       "      <th>5</th>\n",
       "      <td>Locktime</td>\n",
       "      <td>4</td>\n",
       "      <td>ここで値を設定すれば、ブロックに格納される時間をしているすことができる</td>\n",
       "    </tr>\n",
       "  </tbody>\n",
       "</table>\n",
       "</div>"
      ],
      "text/plain": [
       "           フィールド名 サイズ(バイト)                                               内容\n",
       "0         Version        4  従っているルールを指定。通常は１。トランザクションの試用期間に制約をかける場合は２が指定される\n",
       "1   Input counter      1~9                  このトランザクションデータに含まれているアウトプットデータの数\n",
       "2          Inputs       可変                                     インプットデータのリスト\n",
       "3  Output counter      1~9                  このトランザクションデータに含まれているアウトプットデータの数\n",
       "4         Outputs       可変                                    アウトプットデータのリスト\n",
       "5        Locktime        4              ここで値を設定すれば、ブロックに格納される時間をしているすことができる"
      ]
     },
     "execution_count": 13,
     "metadata": {},
     "output_type": "execute_result"
    }
   ],
   "source": [
    "import pandas as pd\n",
    "list = [\n",
    "    ['Version', 4, '従っているルールを指定。通常は１。トランザクションの試用期間に制約をかける場合は２が指定される'],\n",
    "    ['Input counter', '1~9', 'このトランザクションデータに含まれているアウトプットデータの数'],\n",
    "    ['Inputs', '可変', 'インプットデータのリスト'],\n",
    "    ['Output counter', '1~9', 'このトランザクションデータに含まれているアウトプットデータの数'],\n",
    "    ['Outputs', '可変', 'アウトプットデータのリスト'],\n",
    "    ['Locktime', 4, 'ここで値を設定すれば、ブロックに格納される時間をしているすことができる']\n",
    "]\n",
    "df = pd.DataFrame(list, columns=['フィールド名', 'サイズ(バイト)', '内容'])\n",
    "df\n"
   ]
  },
  {
   "cell_type": "markdown",
   "metadata": {},
   "source": [
    "## 実際のトランザクションデータを確認\n",
    "このデータはフルノードクライアントである「BitcoinCore」を利用して立てたフルノードで取得したデータ。なお、トランザクションIDは全てのトランザクションデータに一意に設定されている。"
   ]
  },
  {
   "cell_type": "markdown",
   "metadata": {},
   "source": [
    "0000000245d50a313eb89a71bb501380334e58973b7b3c0fb4614f8645d07d728b8574aa010000008c493046022100b3c7f1c56384c6145673b94fa226af8d02a263a1ed9f3505fdf0e94cc681193e022100d677  eb3cbb9b82da961626ccfdc31a6041195123ae236b5ed1a34250c4163e73014104545e7c6d2acc161567860039bc3068d4af5432b1afe34d2909bf8996b95c10a6445692bc3f458a0503c45084f99329d5e90d84  f21a52a5d11add62eb26340db2ffffffff49de1cd30c20d1f22a2e966b0d195d20b0f133e8de426f7d1610525a64a09daf000000008b483045022100d4ea6ce46296548d38f02da337daebef00f443134f3b68f4ad8  946a961728b0402207573dc96e324037d1934fa5105a517608364a2b273e694dce53714745fa135f4014104e89667c1c2cf4eb91324debcc7742b8eb22406c59d6033794124efb7cce37b78ddd5e3c3474aeb  9dbf7689c9d36d776b7d21debe4d75142cb43a2529fb3a6da4ffffffff0100286bee00000001976a914c1ac9042b50a9d2e7a6a1b42bad66e61a9ec3f6b88ac00000000"
   ]
  },
  {
   "cell_type": "markdown",
   "metadata": {},
   "source": [
    "上のデータは１６進数でシリアライズされたデータである点に注意する必要がある。  \n",
    "このままでは可読性が低いですが、JSON形式に変換するともう少し見やすくなる。"
   ]
  },
  {
   "cell_type": "code",
   "execution_count": null,
   "metadata": {},
   "outputs": [],
   "source": [
    "{\n",
    "    # このトランザクションのID。トランザクションにはそれぞれ一意にIDが設定されている。\n",
    "  \"txid\": \"0e942bb178dbf7ae40d36d238d559427429641689a379fc43929f15275a75fa6\",    　\n",
    "  \"hash\": \"0e942bb178dbf7ae40d36d238d559427429641689a379fc43929f15275a75fa6\",\n",
    "  \"version\": 1,\n",
    "  \"size\": 405,\n",
    "  \"vsize\": 405,\n",
    "  \"weight\": 1620,\n",
    "  \"locktime\": 0,\n",
    "\n",
    "  # vin と vout がそれぞれトランザクションのインプットデータとアウトプットデータ\n",
    "\n",
    "  # インプットデータ部分\n",
    "  # この例では、２つのデータが配列に格納されている。\n",
    "  # txid と vout を利用することで、どのトランザクションの、どのアウトプットデータを参照しているのかを一意に定めることができる。\n",
    "  \"vin\": [\n",
    "    {\n",
    "        # txid の部分で参照する トランザクションID を指定\n",
    "      \"txid\": \"aa74858b727dd045864f61b40f3c7b3b97584e33801350bb719ab83e310ad545\",\n",
    "       # vout の部分で何番目のアウトプットデータを使っているのかを指定。\n",
    "      \"vout\": 1,\n",
    "      \"scriptSig\": {\n",
    "        \"asm\": \"3046022100b3c7f1c56384c6145673b94fa226af8d02a263a1ed9f3505fdf0e94cc681193e022100d677eb3cbb9b82da961626ccfdc31a6041195123ae236b5ed1a34250c4163e73[ALL] 04545e7c6d2acc161567860039bc3068d4af5432b1afe34d2909bf8996b95c10a6445692bc3f458a0503c45084f99329d5e90d84f21a52a5d11add62eb26340db2\"\n",
    "        \"hex\": \"493046022100b3c7f1c56384c6145673b94fa226af8d02a263a1ed9f3505fdf0e94cc681193e022100d677eb3cbb9b82da961626ccfdc31a6041195123ae236b5ed1a34250c4163e73014104545e7c6d2acc161567860039bc3068d4af5432b1afe34d2909bf8996b95c10a6445692bc3f458a0503c45084f99329d5e90d84f21a52a5d11add62eb26340db2\"\n",
    "      },\n",
    "      \"sequence\": 4294967295\n",
    "    },\n",
    "    {\n",
    "      \"txid\": \"af9da0645a5210167d6f42dee833f1b0205d190d6b962e2af2d1200cd31cde49\",\n",
    "      \"vout\": 0,\n",
    "      \"scriptSig\": {\n",
    "        \"asm\": \"3045022100d4ea6ce46296548d38f02da337daebef00f443134f3b68f4ad8946a961728b0402207573dc96e324037d1934fa5105a517608364a2b273e694dce53714745fa135f4[ALL] 04e89667c1c2cf4eb91324debcc7742b8eb22406c59d6033794124efb7cce37b78ddd5e3c3474aeb9dbf7689c9d36d776b7d21debe4d75142cb43a2529fb3a6da4\",\n",
    "        \"hex\": \"483045022100d4ea6ce46296548d38f02da337daebef00f443134f3b68f4ad8946a961728b0402207573dc96e324037d1934fa5105a517608364a2b273e694dce53714745fa135f4014104e89667c1c2cf4eb91324debcc7742b8eb22406c59d6033794124efb7cce37b78ddd5e3c3474aeb9dbf7689c9d36d776b7d21debe4d75142cb43a2529fb3a6da4\"\n",
    "      },\n",
    "      \"sequence\": 4294967295\n",
    "    }\n",
    "  ],\n",
    "\n",
    "  # アウトプットデータの部分。\n",
    "  # この例だと、１つだけ格納されている。\n",
    "  # 金額や送金先のアドレスなどが含まれている、\n",
    "  \"vout\": [\n",
    "    {\n",
    "      \"value\": 40.00000000,\n",
    "      \"n\": 0,\n",
    "      \"scriptPubKey\": {\n",
    "          \"asm\": \"OP_DUP OP_HASH160 c1ac9042b50a9d2e7a6a1b42bad66e61a9ec3f6b OPEQUALVERIFY OP_CHECKSIG\",\n",
    "          \"hex\": \"76a914c1ac9042b50a9d2e7a6a1b42bad66e61a9ec3f6b88ac\",\n",
    "          \"reqSigs\": 1,\n",
    "          \"type\": \"pubkeyhas\",\n",
    "          \"addresses\": [\n",
    "              \"1Jf48wufcDpPQ2EEgX1jUULuTHVzDhqBSF\"\n",
    "          ]\n",
    "      }\n",
    "    }\n",
    "  ]\n",
    "}"
   ]
  },
  {
   "cell_type": "markdown",
   "metadata": {},
   "source": [
    "## トランザクションデータの取得\n",
    "上のトランザクションデータは、BitcoinCoreでフルノードを立て取得したデータでしたが、わざわざフルノードを立てなくとも公開APIを取得することでデータを取得できる。  \n",
    "まず、今回は blockchain.info というWebサービスの公開APIを利用する。(smartbit などのサービスも利用可能)  \n",
    "このように公開APIを利用すれば、自前で全てのデータを持ち合わせなくとも必要なデータを取得できる。  \n",
    "Pythonでは、requests というサードパーティ製のパッケージを利用してAPIを利用する。  \n",
    "このパッケージは簡単にHTTP通信を行うことができ、公開APIのURLを指定することでデータを提供したり取得することができる。"
   ]
  },
  {
   "cell_type": "code",
   "execution_count": 17,
   "metadata": {},
   "outputs": [
    {
     "name": "stdout",
     "output_type": "stream",
     "text": [
      "010000000245d50a313eb89a71bb501380334e58973b7b3c0fb4614f8645d07d728b8574aa010000008c493046022100b3c7f1c56384c6145673b94fa226af8d02a263a1ed9f3505fdf0e94cc681193e022100d677eb3cbb9b82da961626ccfdc31a6041195123ae236b5ed1a34250c4163e73014104545e7c6d2acc161567860039bc3068d4af5432b1afe34d2909bf8996b95c10a6445692bc3f458a0503c45084f99329d5e90d84f21a52a5d11add62eb26340db2ffffffff49de1cd30c20d1f22a2e966b0d195d20b0f133e8de426f7d1610525a64a09daf000000008b483045022100d4ea6ce46296548d38f02da337daebef00f443134f3b68f4ad8946a961728b0402207573dc96e324037d1934fa5105a517608364a2b273e694dce53714745fa135f4014104e89667c1c2cf4eb91324debcc7742b8eb22406c59d6033794124efb7cce37b78ddd5e3c3474aeb9dbf7689c9d36d776b7d21debe4d75142cb43a2529fb3a6da4ffffffff0100286bee000000001976a914c1ac9042b50a9d2e7a6a1b42bad66e61a9ec3f6b88ac00000000\n"
     ]
    }
   ],
   "source": [
    "import requests\n",
    "\n",
    "API_URL = \"https://blockchain.info/rawtx/\"\n",
    "TXID = \"0e942bb178dbf7ae40d36d238d559427429641689a379fc43929f15275a75fa6\"\n",
    "\n",
    "r = requests.get(API_URL + TXID + \"?format=hex\")\n",
    "print(r.text)"
   ]
  },
  {
   "cell_type": "code",
   "execution_count": 18,
   "metadata": {},
   "outputs": [
    {
     "name": "stdout",
     "output_type": "stream",
     "text": [
      "{\"hash\":\"0e942bb178dbf7ae40d36d238d559427429641689a379fc43929f15275a75fa6\",\"ver\":1,\"vin_sz\":2,\"vout_sz\":1,\"size\":405,\"weight\":1620,\"fee\":0,\"relayed_by\":\"0.0.0.0\",\"lock_time\":0,\"tx_index\":5853752370814501,\"double_spend\":false,\"time\":1298920129,\"block_index\":111111,\"block_height\":111111,\"inputs\":[{\"sequence\":4294967295,\"witness\":\"\",\"script\":\"493046022100b3c7f1c56384c6145673b94fa226af8d02a263a1ed9f3505fdf0e94cc681193e022100d677eb3cbb9b82da961626ccfdc31a6041195123ae236b5ed1a34250c4163e73014104545e7c6d2acc161567860039bc3068d4af5432b1afe34d2909bf8996b95c10a6445692bc3f458a0503c45084f99329d5e90d84f21a52a5d11add62eb26340db2\",\"index\":0,\"prev_out\":{\"tx_index\":2457001643202323,\"value\":500000000,\"n\":1,\"type\":0,\"spent\":true,\"script\":\"76a91471c4f6b0f56fef3cbdbae6f297631a27ab159f9888ac\",\"spending_outpoints\":[{\"tx_index\":5853752370814501,\"n\":0}],\"addr\":\"1BNZJx7pM4GTqe8MgEZoji2fUS3fKnJH2i\"}},{\"sequence\":4294967295,\"witness\":\"\",\"script\":\"483045022100d4ea6ce46296548d38f02da337daebef00f443134f3b68f4ad8946a961728b0402207573dc96e324037d1934fa5105a517608364a2b273e694dce53714745fa135f4014104e89667c1c2cf4eb91324debcc7742b8eb22406c59d6033794124efb7cce37b78ddd5e3c3474aeb9dbf7689c9d36d776b7d21debe4d75142cb43a2529fb3a6da4\",\"index\":1,\"prev_out\":{\"tx_index\":2598986085139482,\"value\":3500000000,\"n\":0,\"type\":0,\"spent\":true,\"script\":\"76a9144be0a14399e3aad60a761f2e3f658902548423e788ac\",\"spending_outpoints\":[{\"tx_index\":5853752370814501,\"n\":1}],\"addr\":\"17vCmx3McuR3Z7ch2Nz83EoJN9J9p1dvdy\"}}],\"out\":[{\"type\":0,\"spent\":false,\"value\":4000000000,\"spending_outpoints\":[],\"n\":0,\"tx_index\":5853752370814501,\"script\":\"76a914c1ac9042b50a9d2e7a6a1b42bad66e61a9ec3f6b88ac\",\"addr\":\"1Jf48wufcDpPQ2EEgX1jUULuTHVzDhqBSF\"}]}\n"
     ]
    }
   ],
   "source": [
    "import requests\n",
    "\n",
    "API_URL = \"https://blockchain.info/rawtx/\"\n",
    "TXID = \"0e942bb178dbf7ae40d36d238d559427429641689a379fc43929f15275a75fa6\"\n",
    "\n",
    "r = requests.get(API_URL + TXID)\n",
    "print(r.text)"
   ]
  },
  {
   "cell_type": "markdown",
   "metadata": {},
   "source": [
    "# UTXO\n",
    "ビットコインでトランザクションを管理するための重要概念としてUTXOが利用されている。  \n",
    "`UTXO`は　Unspent Transaction Output の略で、未使用のトランザクションアウトプットの意味。  \n",
    "ビットコインにおけるトランザクションでは UTXO を利用することで取引を管理する。  \n",
    "UTXOには複数に分割することができないという特徴があり、これは１０００円札を半分にしても５００円にならないのと同じイメージ。  \n",
    "ユーザーが送金を行い、トランザクションを組成する際には、UTXOをかき集め、支払いたい金額より大きくなるようにする。  \n",
    "支払い金額より大きくなった場合、おつり文を新しいアドレスに新しいUTXOを作り紐づけることで管理する。  \n",
    "この時、消費されたUTXOはトランザクションインプットとして、生成されたUTXOはトランザクションアウトプットとしてトランザクションデータが生成される。  \n",
    "  \n",
    "上のトランザクションデータの場合、vout に格納されているアウトプットデータが利用されていない場合、これが UTXO になる。  \n",
    "また、vin に格納されている２つのインプットデータはこのトランザクションが組成される時点では、UTXOだったということがわかる。 \n",
    "\n",
    "## アカウントベース方式とUTXO方式\n",
    "ブロックチェーンにおける仮想通貨やトークンの残高を管理する方式には大きく`アカウントベース方式`と`UTXO方式`がある。  \n",
    "アカウントベース方式は、それぞれのアカウントがどれだけの金額を持っていて、そこにどれだけの金額が出入りしたのかを管理する方式。  \n",
    "一般的な銀行口座と同じイメージで、イーサリアムではこの方式が採用されている。  \n",
    "UTXO方式では、残高を計算する際に、利用されていないアウトプットデータをネットワーク上からかき集めることで算出する方式。  \n",
    "ビットコインのブロックチェーンで採用されている。ただ、ビットコインには残高という概念がそもそも存在していないので、ウォレットがユーザーの利便性を高めるために便宜上、残高という言葉を用いている。  \n",
    "アカウントベース方式とUTXO方式にはそれぞれ長短があるため、一概にはどちらが良いとは言えない。  \n",
    "例えば、アカウントベース方式には、単純であるため実装が簡単な上、スマートコントラクトで複雑な処理が扱いやすくなるメリットがある一方で、匿名性を高くすることが難しいという特徴がある。  \n",
    "反対に、UTXO方式では、匿名性を高くできて拡張性を確保することが容易になるメリットがあり、二重支払い防止にも有効とされているが、実装の難易度が上がってしまう欠点がある。　　"
   ]
  },
  {
   "cell_type": "code",
   "execution_count": 21,
   "metadata": {},
   "outputs": [
    {
     "data": {
      "text/html": [
       "<div>\n",
       "<style scoped>\n",
       "    .dataframe tbody tr th:only-of-type {\n",
       "        vertical-align: middle;\n",
       "    }\n",
       "\n",
       "    .dataframe tbody tr th {\n",
       "        vertical-align: top;\n",
       "    }\n",
       "\n",
       "    .dataframe thead th {\n",
       "        text-align: right;\n",
       "    }\n",
       "</style>\n",
       "<table border=\"1\" class=\"dataframe\">\n",
       "  <thead>\n",
       "    <tr style=\"text-align: right;\">\n",
       "      <th></th>\n",
       "      <th>アカウントベース方式</th>\n",
       "      <th>UTXO方式</th>\n",
       "    </tr>\n",
       "  </thead>\n",
       "  <tbody>\n",
       "    <tr>\n",
       "      <th>長所</th>\n",
       "      <td>実装が簡単で複雑な処理が扱いやすい</td>\n",
       "      <td>匿名性やスケーラビリティを高めやすく、二重支払いを防止しやすい</td>\n",
       "    </tr>\n",
       "    <tr>\n",
       "      <th>短所</th>\n",
       "      <td>匿名性を高めにくい</td>\n",
       "      <td>実装が複雑になる</td>\n",
       "    </tr>\n",
       "  </tbody>\n",
       "</table>\n",
       "</div>"
      ],
      "text/plain": [
       "           アカウントベース方式                           UTXO方式\n",
       "長所  実装が簡単で複雑な処理が扱いやすい  匿名性やスケーラビリティを高めやすく、二重支払いを防止しやすい\n",
       "短所          匿名性を高めにくい                         実装が複雑になる"
      ]
     },
     "execution_count": 21,
     "metadata": {},
     "output_type": "execute_result"
    }
   ],
   "source": [
    "list = [\n",
    "    ['実装が簡単で複雑な処理が扱いやすい', '匿名性やスケーラビリティを高めやすく、二重支払いを防止しやすい'],\n",
    "    ['匿名性を高めにくい', '実装が複雑になる'],\n",
    "]\n",
    "df = pd.DataFrame(list, columns=['アカウントベース方式', 'UTXO方式'], index=['長所', '短所'])\n",
    "df\n"
   ]
  },
  {
   "cell_type": "markdown",
   "metadata": {},
   "source": [
    "## UTXOを取得してみる\n",
    "今回は blockchain.info のAPIを利用する。  \n",
    "UTXOはアドレスに紐づいているため、特定のアドレスを指定しなければいけないことに注意。  \n",
    "ここではビットコインのクライアントである　Bitcoin Core を開発している Bitcoin.org が公開しているアドレスを使用する。"
   ]
  },
  {
   "cell_type": "code",
   "execution_count": 49,
   "metadata": {},
   "outputs": [
    {
     "name": "stdout",
     "output_type": "stream",
     "text": [
      "108個のUTXOが見つかったよ!!\n",
      "ccb1ec596a8914afaecb4e860d4cd67313b0d3b2163ee9a5c3bee5dc778e05fa:55000 satoshis\n",
      "abe04141c3dff37ba63b20b24db0435bc078baaf9c345212f2bb80603c2455f1:18332 satoshis\n",
      "fbb10874cb7bbd06bdfe4dbaee23c781d7b88919d01b2dbf9caf8e384ed2cc65:10356 satoshis\n",
      "5966a4472b001e922eb6edf30bb8eec8e4e3377c93f58fdb4e7be2adcb59fdc8:100000 satoshis\n",
      "efcf84b4aff058baf279ff229748ed3a040150c161690379a360b6356630c359:4000000 satoshis\n",
      "c38a74ff5f62ea57dbbaf0680e310caf608e172463bdb0d446b9d0f5698926fa:2000000 satoshis\n",
      "3e2a0656ead08a8fa20ce97a43d670b35eaba4a7e8af3730ae46523c4c8aaae4:10000 satoshis\n",
      "22c6ea2ac57a2cbf4b6525c8e31199ce07756052ae5dc86c3042478d9c114e8c:2113 satoshis\n",
      "e533de01363edb857550e6142021660e09cd5b15c8463450f3a6fef30a856a95:1433 satoshis\n",
      "bc75cf81df21487ac0c7f4e46a34e8af71677cc16e1ec58eff7b8ab153323625:127614 satoshis\n",
      "48027b82827a5f80d1eff94f5078d3c5bfec749cf29aa47de3001b80556670fe:142650 satoshis\n",
      "368109330e81985cd933cc76008fc5bda05949136a82a88c7729d38c1a2f7371:25583 satoshis\n",
      "4371d9c68f3e4625b7ff07f404cabd3fe1ef21317674c6b786cbf3d6fc1d9d4a:1628 satoshis\n",
      "99aa8ec2a652aafe582de2bf6d55ec56418082964a5f90984dcbecb717572f81:231074 satoshis\n",
      "a70b5bccf94fc3799111d725ef61be97addb771e63ba02ae176c15c8ffe45df9:1867 satoshis\n",
      "f251ef1fb41dd6ffa633b0c103bf438596ad2e67da163075a539d09f2d242d1a:131224 satoshis\n",
      "51e07b1efcf1bc4393252c4a7b275a84021c6f810375e79d998076a0807ec1df:7258 satoshis\n",
      "80c3e54173dff78a90ce51b45dcd97400746e9b00b609398b7506b99c6ecdd6a:3200 satoshis\n",
      "3091291222766398151db6b46b42369d3c448f6b07f8f1268b7351bf0dea9217:5000 satoshis\n",
      "df3a8bc1680c8a8028bd955a58ba250e71aa1bdf127057705a4749447c328b3e:10000 satoshis\n",
      "9d5dc7420dcdda0efefc6a99004b5b49d6e9637038af82d49d33963fa21f3658:530445 satoshis\n",
      "9f28e3a939e6f91f3ed6617361eff6f57f6c414b798b781078fd7100685ed67d:1120 satoshis\n",
      "2b2467e8c2b3ea19ab974cc49f71e81be46e31f1208aa12b9d35648ec5155af8:65800 satoshis\n",
      "7a41fafc1bc688dc9e6075292f9224bc784076acabd739f8a112d055720f778b:77391 satoshis\n",
      "e3d27ff0f0e66603ca1a0ba52b2ea16355ac7b66d0deb323148c0005b965fd81:273000 satoshis\n",
      "912811939338cf2254e4d7955bb38cf8b09afaad109e9a515423bff2e92d5753:132818 satoshis\n",
      "b894a78f6e237b5d3c479818602f4b1ab356f7019c64fe73700d199a7dbb8fed:199974 satoshis\n",
      "dbb4b0a72703ac8ea1e57f1698e9fcf74910d20ac4319353883d581fb04566d5:41617 satoshis\n",
      "5ed23a8a285009d7b3ea71df961231fa3910fe9f24682f3cc9dbfa7ad4f2cac5:93504 satoshis\n",
      "0be64e813d0c40e27426315c0164e47e910c339006d47d90a54e364e7ebd902b:8512 satoshis\n",
      "6f944e699bad1a39267b0f2fd5820135070709337ec3fbe154e9f50894b2b477:5216 satoshis\n",
      "781745f0a0a1c1bcbda9aee2a5a20e75edabc516f608cf0c381a6b962877f1db:12992 satoshis\n",
      "2fd9d7382706db6639c4f7af9d481f8fe6403623c35e595f46eef09ff47ee5c3:51640 satoshis\n",
      "99de1ac7892e574f444b8f91da74541bbcc6895c02929aea681007ccd5e37b84:20000 satoshis\n",
      "09de3a9e52119afb79307776dba72a68dff78b7bac7a8d1134373a826bba517a:20000 satoshis\n",
      "b5b38e3ceda87dce28a5d6d42ab135cfaf5d08ef05585508adfce4d38355471d:249921 satoshis\n",
      "d479276f325eb81f8a91baca19d37be3d7a0289348213fd6c78c0a15a50f2c88:2120 satoshis\n",
      "b67f8b12279f690b4f0261298de28a958da102ee79b5a21bee2420ff74d990cb:84040 satoshis\n",
      "ac62114a9106780b93d0d38613d30b82fc55ca2434ce2a5b6901f58901bd7767:77027 satoshis\n",
      "b01f6d3dbe8695b87acd8ac35fb880ac0e5ff5acfa6ed33aa90bccb7df9b57bf:123805 satoshis\n",
      "07892e8910d4048631aa816a28b9bbf777e73840e3e05ac133637f323a9ae3bd:8952 satoshis\n",
      "fc13794fb9e527468eaf1a4315c49170c48ca18e0c236b255e7098c7197f67f4:19715 satoshis\n",
      "166e4004ffd02cada707b1e34cdf98e17cf9adf8b5ca1212aa0d74f135239fdf:3082 satoshis\n",
      "06ca972ada7d6181efa027ab9f9ba3530fbe006129f33ada6d8e0cf3a348b5bd:20000 satoshis\n",
      "77702265f9e62df35056badd517d663c0b56b3b1a5f9571ba11da283a92d649b:1700 satoshis\n",
      "20a829fb23ac5206e3e08538af11f4b5f2a5b953f116eafe324b9418cb9a97bf:9078 satoshis\n",
      "58e0473d40787b1cbe4848076553acc45773c2f49ec5f4013290e2437bcd925f:21076 satoshis\n",
      "01107381f54043e9a56aa6e783861a8d34d1f14680276c4488f75f4446401f3f:1659 satoshis\n",
      "864c6610936947126de26b47ea5011d0e74b5147c71242eed606911fe5b1d23f:700 satoshis\n",
      "891a68693758394b9ee22c781fedc60251e833a7dcd1de952492d0a9650dd0dc:5834 satoshis\n",
      "1ea0ec108a06986d70e3591b741d8a6450744523c17252119a93e73c1cea07c0:4784 satoshis\n",
      "a5d2f93a4b69794133db9465ce681471410359ad6d75d36bad1719599530f409:23132109 satoshis\n",
      "93e6fc6cce0cdde079e11bd56d94c4127986a47ec909db18531beed5e7fca9bd:4603528 satoshis\n",
      "aac6ae5f7e781d16091d303b824c0ea4e9e3010e7dc259678f7c3ed7846c4a3e:7000 satoshis\n",
      "fb68fa720f00ff2f05692a376af25411ca08371b8df959b2c7ad1ca721a21ed7:20000 satoshis\n",
      "9ca5cea8d75bcfd9804739e8d7837740b711c32449f15cc36616f6ac0ea7921e:4463 satoshis\n",
      "50339cdd9731cc6a31511defa78047540bf87bc4209c7955702b5e8551dff40a:114968 satoshis\n",
      "3070bf57d9c8cb4b73292faa4bc1c2d94e4055467fa98afe67967ad70f98a697:49758 satoshis\n",
      "941eb211d30df7b8e93fcac26952089cc9ffc2b6d3f80f9dcf465fd47dfe6180:312600 satoshis\n",
      "1f632b59d3eac407665f3d6ae52fbfe207f83bbbcc2948622ef80f803f5d376e:25000 satoshis\n",
      "d9603abe04b0011e4fafc24adfefb0d485fb35dfda478f92592335498ef9399b:4594 satoshis\n",
      "4c8150701a583e82b53e9bb6c06888a80168e4b6273276292d680dab26af5551:10933 satoshis\n",
      "8d37223dc24cb2311fe8d471b1bd18aab04905bb21fa0fd0bf9ea2c6207d534b:100000 satoshis\n",
      "5fea7bf5637851e64a166a7a6a98c1fef076917ac7719fd2544193be50620db0:50000 satoshis\n",
      "a75d29a93515bf047bdf813c857cabd77dd3606d2cdd58ef24b446e491f92b70:5000 satoshis\n",
      "96ce5d7211a9409f03fc4e0f3519047887856d027673f882726eea04f120c7e7:45407 satoshis\n",
      "4c857fd63f8446c389f9a8a24a7b2abf165d5feae464b1bcfce37b485b038c2b:1000000 satoshis\n",
      "ec09824d8aaf236fdd6a4aa97dda33ae08c6a1825018d63a77d5bd8d1a05cec5:100000 satoshis\n",
      "f84a8489ca9e7e1e3b8e4a6020c6cbbbdfbb26774b1a40083b12f37cc168f161:72674 satoshis\n",
      "7bfea0a4f2a5fb31ba24b2114a6db8277efe9469a968cc68c5d36f5baf1fef77:50300 satoshis\n",
      "95911216f616c886a64894ebf83ac44098e76eedb57e93768e84d8d18be90698:100000 satoshis\n",
      "c35cc053b9060a6e14f763c0026507c16100658c179eb83c3fe0314192f21f95:100000 satoshis\n",
      "2699bafda7d2abda97cf5e624cb6300ee4c53595c1747a980396c7132f389e10:100000 satoshis\n",
      "8ea9214a666b3b5ccf35cf82baeed0e45fb9593997ea10dcc7027fe26cc2dfb3:100000 satoshis\n",
      "dde54a7f73ada053f760d621207dde1f3a306bad9f2f6c67b77cf1ee2ffb214f:32988 satoshis\n",
      "fa99c1d065cf4490eada221b98dfef200eadad8f3dfa6e8dad8eab632206f8bb:20000 satoshis\n",
      "a6d916218fed1ca1b88f0a5729afb5392868f8de719cdb32b23dcffa3b8d7eb2:46422 satoshis\n",
      "73b894037dccfa2c02139b0c1f7d470ce14402a90f5d523b17b31410437e477e:100000 satoshis\n",
      "f2da085f981fc88f2e8dfa9644a79ce4666700d4c72cfc00fc853e5702f9a9e1:73622 satoshis\n",
      "7124a53db53f41c16a51ae17e2d993939513194e2a48669a2626d7df76729651:100000 satoshis\n",
      "14ddbc03d565c6d24004aee9b1b3aadcb34302248d4556201b70e7fb58781e85:78319 satoshis\n",
      "d58f2b6db10275f127abc377622e517758c5d72629dff18709c213dae0eac9b5:5610 satoshis\n",
      "4bf35ff803b2497545d919b0bd322ef752f9cc0d1d85f13adb450550d0086543:83891 satoshis\n",
      "b2e384e5bc427b2e09586d4b5a0535254bddf8880185eda42fbb650095d8258b:86256 satoshis\n",
      "f3f5df3e679fd88a9d83d1723a76cf29c1ff12f3758050b6e3c770d98c9dda5f:100000 satoshis\n",
      "e99c96415b3ffaf723b698f0e64a30a1054cd4f5c6b3971f7e1f257bd6af1ffc:103000 satoshis\n",
      "466c57f3fa196d848fc6024c9e1120bc8e6d0c85e3a55aa745e4f4d5f50be473:10000000 satoshis\n",
      "54fa28b44094b7dec792d00e7efcbc522938910ae9cbbffd19f989cfcd78b703:582568 satoshis\n",
      "27c392162790b7bdf537505c8ee09bb08d9f7bf36fd8ab05ef4718de144faee9:100000 satoshis\n",
      "fd389a869bf3407c031da2a10031b8c4510f0a11a71c71b6d29ae324c3696ec4:163775 satoshis\n",
      "c5f57856f21ef3e6893b8b9e5ea6440791ef546535c669c1e71de4796a8a7671:16900 satoshis\n",
      "a54430142e77134f14062debbef83c84ff925c1c2090d10376e8b4cc26b95b07:50000 satoshis\n",
      "e0f6b1f4f1db221b14995c4d10833a48f69737d93e4eeafd2ca8a2fa56919d48:16997800 satoshis\n",
      "db574a2ca9f980bcb26709101fab8011d6b32264004b76ad237118c8b5810503:14800 satoshis\n",
      "076fc4c2022af4affbca75fbbbecc849d4d4a11a163a5b4a00875d7245bed820:16000 satoshis\n",
      "29a6ba17ab53929ca856b665fb9d114cd939f530a6bea715564884e788f1ddad:6374558 satoshis\n",
      "5cc754f46ed9f5cfbcb9b6426c81f9950cf0ecf3f26e2a43f5c98e424e8c78b9:1000000 satoshis\n",
      "4f2091b1012316981ea4e9df4430b4d58215082bab5c7033459842cb69bff492:1070000 satoshis\n",
      "59516eeb056c23f42a1d975f716f233a5fe4470bd5a68813eb417f7604bc071b:23000 satoshis\n",
      "b8c6bda7400b9d205b1b124b7c31d8f6c1880507bd35044f2333926b884773db:1677000 satoshis\n",
      "bcca09ae89cd38eeb0d9d3ce8c6e1c5e5496540b54a0c2fcd9d29a7454bcfd57:374223 satoshis\n",
      "77fcf2dcde74d14862273d7539a3ef8b6ed7cfda214b6f8fccd1978058f7ce34:408079 satoshis\n",
      "6bad9674decd9f25f8212a6a961578a654abc660e50b2f2e2970b2670adeafad:5000000 satoshis\n",
      "77b2d967afba02ee745792f694bd38dcdadf3454f5c28b97e03972a82f2b47bf:101000 satoshis\n",
      "ecba94baf0269d4785b70c6d0d0646e5cfa650efe65a7a55605b881e31f6efe9:3000000 satoshis\n",
      "fa656f188d71676b1a22f51dd9854cbd4f1587146ef279a9cc4fd750e7c15ec4:1378453 satoshis\n",
      "ad5fff82ef304cab204377f22c55dbf8b110a244dc39a21aa684b5451ae972ab:100000 satoshis\n",
      "e5d46810d40a2bf726e5d1853c83539b84e44f2ebfe37d89d839ab6bd39c0082:1000000 satoshis\n"
     ]
    }
   ],
   "source": [
    "import json\n",
    "import requests\n",
    "\n",
    "# address = \"3E8ociqZa9mZUSwGdSmAEMAoAxBK3FNDcd\"\n",
    "address = \"1RCJPNCX9xwhogzZ5XrKWDjpXF1qmSVXx\"\n",
    "res = requests.get(\"https://blockchain.info/unspent?active=\" + address)\n",
    "utxo_list = json.loads(res.text)[\"unspent_outputs\"]\n",
    "\n",
    "print(str(len(utxo_list)) + \"個のUTXOが見つかったよ!!\")\n",
    "for utxo in utxo_list:\n",
    "    print(utxo['tx_hash'] + \":\" + str(utxo['value']) + \" satoshis\") # satoshis はビットコインの通貨の単位。1BTC=1億satoshis。"
   ]
  },
  {
   "cell_type": "markdown",
   "metadata": {},
   "source": [
    "これらは　3E8ociqZa9mZUSwGdSmAEMAoAxBK3FNDcd に紐づけられているUTXOの一覧。  \n",
    "よって、パブリックチェーンであるビットコインのため、全くの第三者の情報であってこある程度は公開されていることがわかる。\n",
    "\n",
    "# コインベース取引\n",
    "マイニングに成功したマイナーはマイニング報酬を得ることができ、報酬を獲得する取引をコインベース取引と呼ぶ。  \n",
    "コインベース取引はこれまで扱ってきた取引とは異なる性質を持っている。  \n",
    "## コインベース取引\n",
    "トランザクションは input と output が連鎖しているが、その連鎖の始点はどのようになっているのか。その答えが`コインベース取引`である。  \n",
    "コインベース取引とは、マイニングに成功した際に受け取るマイニンング報酬を生成するためのトランザクションであり、他のトランザクションデータと異なり input の値を持たない。  \n",
    "つまり、消費するUTXOを持たない、ただ１つのトランザクション。  \n",
    "また、ネットワークにおけるすべてのUTXOの合計は、それまでに発行されているビットコインの合計である。  \n",
    "言い換えると、コインベース取引は、ビットコインのネットワークにおいて、UTXOの合計値が増加する唯一のタイミングと言うことができる。"
   ]
  },
  {
   "cell_type": "markdown",
   "metadata": {},
   "source": [
    "##### コインベース取引の生データ\n",
    "01000000010000000000000000000000000000000000000000000000000000000000000000ffffffff0704cd2d011b0112ffffffff0100f2052a010000004341047b8d  \n",
    "5e4b08e71b4e21edc71dc2b5040c0fc6cd1b8446500a95e44fce027d95d7bf74ad3f94e6068f2b94dd4daadcfffc7673044c71876b7e7061531b35b6a0a5ac00000000"
   ]
  },
  {
   "cell_type": "markdown",
   "metadata": {},
   "source": [
    "##### json形式に変換\n",
    "上で確認したトランザクションデータと比べると、インプット部分(vin部分)が異なっており、coinbaseと書かれていることがわかる。  \n",
    "coinbaseとはコインベース取引であることを示し、インプットとして参照するUTXOを持たないことを表している。"
   ]
  },
  {
   "cell_type": "code",
   "execution_count": null,
   "metadata": {},
   "outputs": [],
   "source": [
    "{\n",
    "  \"txid\": \"e7c6a5c20318e99e7a2fe7e9c534fae52d402ef6544afd85a0a1a22a8d09783a\",\n",
    "  \"hash\": \"e7c6a5c20318e99e7a2fe7e9c534fae52d402ef6544afd85a0a1a22a8d09783a\",\n",
    "  \"version\": 1,\n",
    "  \"size\": 134,\n",
    "  \"vsize\": 134,\n",
    "  \"weight\": 536,\n",
    "  \"locktime\": 0,\n",
    "  \"vin\": [\n",
    "    {\n",
    "      \"coinbase\": \"04cd2d011b0112\",\n",
    "      \"sequence\": 4294967295\n",
    "    }\n",
    "  ],\n",
    "  \"vout\": [\n",
    "    {\n",
    "      \"value\": 50.00000000,\n",
    "\n",
    "      \"n\": 0,\n",
    "      \"scriptPubKey\": {\n",
    "        \"asm\": \"047b8d5e4b08e71b4e21edc71dc2b5040c0fc6cd1b8446500a95e44fce027d95d7bf74ad3f94e6068f2b94dd4daadcfffc7673044c71876b7e7061531b35b6a0a5 OP_CHECKSIG\",\n",
    "        \"hex\": \"41047b8d5e4b08e71b4e21edc71dc2b5040c0fc6cd1b8446500a95e44fce027d95d7bf74ad3f94e6068f2b94dd4daadcfffc7673044c71876b7e7061531b35b6a0a5ac\",\n",
    "        \"reqSigs\": 1,\n",
    "        \"type\": \"pubkey\",\n",
    "        \"addresses\": [\n",
    "          \"1Jyv1RNBcfic1dQwDTRXNnsJ9Xxpvqcr27\"\n",
    "        ]\n",
    "      }\n",
    "    }\n",
    "  ]\n",
    "}"
   ]
  },
  {
   "cell_type": "markdown",
   "metadata": {},
   "source": [
    "# スクリプト言語\n",
    "ビットコインのトランザクションはスクリプト言語と呼ばれるシンプルな言語によって署名やその検証を行う。\n",
    "## スクリプト言語\n",
    "`スクリプト言語`とは、スタックと呼ばれるデータ構造を利用した言語で、スタックにデータを出し入れして保持するもの。このことをLIFO(Last In First Out)形式と言う。  \n",
    "## OP _CODE\n",
    "ビットコインではOP_CODEと呼ばれるコードが利用される。ビットコインのOP_CODEはチューリング不完全であり、`ステートレス`であると言う特徴を持っている。  \n",
    "- チューリング不完全とは、複雑な分岐処理ができないような性質のことでPythonのような複雑なプログラムを記述することができない。\n",
    "- ステートレスとは、ステート(状態)を持たないという性質のことで、誰がいつどこでコードを実行しても同じ結果になるようになっている。  \n",
    "\n",
    "これらの特徴は、トランザクションデータを変更して改ざんできる可能性を低くすることで脆弱性の低減に貢献している。  \n",
    "OP_CODEは、命令とその内容が定義されており、これらのコードがトランザクションの署名や検証などに利用される。"
   ]
  },
  {
   "cell_type": "code",
   "execution_count": 34,
   "metadata": {},
   "outputs": [
    {
     "data": {
      "text/html": [
       "<div>\n",
       "<style scoped>\n",
       "    .dataframe tbody tr th:only-of-type {\n",
       "        vertical-align: middle;\n",
       "    }\n",
       "\n",
       "    .dataframe tbody tr th {\n",
       "        vertical-align: top;\n",
       "    }\n",
       "\n",
       "    .dataframe thead th {\n",
       "        text-align: right;\n",
       "    }\n",
       "</style>\n",
       "<table border=\"1\" class=\"dataframe\">\n",
       "  <thead>\n",
       "    <tr style=\"text-align: right;\">\n",
       "      <th></th>\n",
       "      <th>命令</th>\n",
       "      <th>内容</th>\n",
       "    </tr>\n",
       "  </thead>\n",
       "  <tbody>\n",
       "    <tr>\n",
       "      <th>0</th>\n",
       "      <td>OP_0, OP_FALSE</td>\n",
       "      <td>０をプッシュ</td>\n",
       "    </tr>\n",
       "    <tr>\n",
       "      <th>1</th>\n",
       "      <td>OP_1, OP_TRUE</td>\n",
       "      <td>１をプッシュ</td>\n",
       "    </tr>\n",
       "    <tr>\n",
       "      <th>2</th>\n",
       "      <td>OP_2~OP_16</td>\n",
       "      <td>OP_nのnの部分をプッシュ</td>\n",
       "    </tr>\n",
       "    <tr>\n",
       "      <th>3</th>\n",
       "      <td>OP_DUP</td>\n",
       "      <td>スタックのトップ要素と同じデータをプッシュ</td>\n",
       "    </tr>\n",
       "    <tr>\n",
       "      <th>4</th>\n",
       "      <td>OP_HASH160</td>\n",
       "      <td>スタックのトップ要素をポップし、そのHash160のハッシュ値をプッシュ</td>\n",
       "    </tr>\n",
       "    <tr>\n",
       "      <th>5</th>\n",
       "      <td>OP_EQUAL</td>\n",
       "      <td>スタックのトップ要素とその下の要素をポップし、同じなら１, 違うなら０をプッシュ</td>\n",
       "    </tr>\n",
       "    <tr>\n",
       "      <th>6</th>\n",
       "      <td>OP_VERIFY</td>\n",
       "      <td>スタックのトップ要素が０なら強制終了、そうでなければトップをポップ</td>\n",
       "    </tr>\n",
       "    <tr>\n",
       "      <th>7</th>\n",
       "      <td>OP_EQUALVERIFY</td>\n",
       "      <td>OP_EQUALを実行したのち、OP_VERIFYを実行する</td>\n",
       "    </tr>\n",
       "    <tr>\n",
       "      <th>8</th>\n",
       "      <td>OP_CHECKSIG</td>\n",
       "      <td>スタックのトップ要素をPubkey, その下の要素をsigとしてポップし、署名の検証を行い、成功すれば１, 失敗すれば０をプッシュ</td>\n",
       "    </tr>\n",
       "    <tr>\n",
       "      <th>9</th>\n",
       "      <td>OP_RETURN</td>\n",
       "      <td>支払いに関係のない80バイトのデータをoutputに追加する</td>\n",
       "    </tr>\n",
       "  </tbody>\n",
       "</table>\n",
       "</div>"
      ],
      "text/plain": [
       "               命令  \\\n",
       "0  OP_0, OP_FALSE   \n",
       "1   OP_1, OP_TRUE   \n",
       "2      OP_2~OP_16   \n",
       "3          OP_DUP   \n",
       "4      OP_HASH160   \n",
       "5        OP_EQUAL   \n",
       "6       OP_VERIFY   \n",
       "7  OP_EQUALVERIFY   \n",
       "8     OP_CHECKSIG   \n",
       "9       OP_RETURN   \n",
       "\n",
       "                                                                  内容  \n",
       "0                                                             ０をプッシュ  \n",
       "1                                                             １をプッシュ  \n",
       "2                                                     OP_nのnの部分をプッシュ  \n",
       "3                                              スタックのトップ要素と同じデータをプッシュ  \n",
       "4                               スタックのトップ要素をポップし、そのHash160のハッシュ値をプッシュ  \n",
       "5                           スタックのトップ要素とその下の要素をポップし、同じなら１, 違うなら０をプッシュ  \n",
       "6                                  スタックのトップ要素が０なら強制終了、そうでなければトップをポップ  \n",
       "7                                     OP_EQUALを実行したのち、OP_VERIFYを実行する  \n",
       "8  スタックのトップ要素をPubkey, その下の要素をsigとしてポップし、署名の検証を行い、成功すれば１, 失敗すれば０をプッシュ  \n",
       "9                                     支払いに関係のない80バイトのデータをoutputに追加する  "
      ]
     },
     "execution_count": 34,
     "metadata": {},
     "output_type": "execute_result"
    }
   ],
   "source": [
    "list = [\n",
    "    ['OP_0, OP_FALSE', '０をプッシュ'],\n",
    "    ['OP_1, OP_TRUE', '１をプッシュ'],\n",
    "    ['OP_2~OP_16', 'OP_nのnの部分をプッシュ'],\n",
    "    ['OP_DUP', 'スタックのトップ要素と同じデータをプッシュ'],\n",
    "    ['OP_HASH160', 'スタックのトップ要素をポップし、そのHash160のハッシュ値をプッシュ'],\n",
    "    ['OP_EQUAL', 'スタックのトップ要素とその下の要素をポップし、同じなら１, 違うなら０をプッシュ'],\n",
    "    ['OP_VERIFY', 'スタックのトップ要素が０なら強制終了、そうでなければトップをポップ'],\n",
    "    ['OP_EQUALVERIFY', 'OP_EQUALを実行したのち、OP_VERIFYを実行する'],\n",
    "    ['OP_CHECKSIG', 'スタックのトップ要素をPubkey, その下の要素をsigとしてポップし、署名の検証を行い、成功すれば１, 失敗すれば０をプッシュ'],\n",
    "    ['OP_RETURN', '支払いに関係のない80バイトのデータをoutputに追加する']\n",
    "]\n",
    "pd.set_option(\"display.max_colwidth\", 80)\n",
    "df = pd.DataFrame(list, columns=['命令', '内容'])\n",
    "df\n"
   ]
  },
  {
   "cell_type": "markdown",
   "metadata": {},
   "source": [
    "# トランザクションの種類\n",
    "ビットコインにおけるトランザクションにはいくつか種類がある。\n",
    "## Locking Script と Unlocking Script\n",
    "トランザクションは、Locking Script と Unlocking Script の２種類のスクリプトから成り立っている。  \n",
    "Locking Script はアウトプットで記述されているもので、UTXOを消費する場合に満たすべき条件を記述している。  \n",
    "Unlocking Script はアウトプットを利用できるようにするためのスクリプト。  \n",
    "このロックとアンロックが繰り返し行われることで、トランザクションの連鎖が形成される。  \n",
    "実際のスクリプトは Unlocking -> Locking の順番で実行され、Unlocking で指定されていた解除条件を実行した後に、Locking によって使用する条件をクリアするプロセスを踏むこととなる。  \n",
    "仮にプロセスの中のどこかでエラーが発生した場合、UTXOを使用することができなくなる。  \n",
    "## トランザクションの種類\n",
    "ビットコインにおけるトランザクションには、スクリプトのあり方によって様々な種類が用意されている。   \n",
    "ここでは、P2PKH, P2PK, P2SHの３種類を紹介する。  \n",
    "複数の種類が存在するにはいくつか理由があり、例えばトランザクションにおけるセキュリティを高めたり、利便性を高めたりするために考案されてきた。  "
   ]
  },
  {
   "cell_type": "code",
   "execution_count": 35,
   "metadata": {},
   "outputs": [
    {
     "data": {
      "text/html": [
       "<div>\n",
       "<style scoped>\n",
       "    .dataframe tbody tr th:only-of-type {\n",
       "        vertical-align: middle;\n",
       "    }\n",
       "\n",
       "    .dataframe tbody tr th {\n",
       "        vertical-align: top;\n",
       "    }\n",
       "\n",
       "    .dataframe thead th {\n",
       "        text-align: right;\n",
       "    }\n",
       "</style>\n",
       "<table border=\"1\" class=\"dataframe\">\n",
       "  <thead>\n",
       "    <tr style=\"text-align: right;\">\n",
       "      <th></th>\n",
       "      <th>方式</th>\n",
       "      <th>説明</th>\n",
       "    </tr>\n",
       "  </thead>\n",
       "  <tbody>\n",
       "    <tr>\n",
       "      <th>0</th>\n",
       "      <td>P2PKH（Pay-to-Public-Key-Hash）</td>\n",
       "      <td>公開鍵のハッシュ値をLocking</td>\n",
       "    </tr>\n",
       "    <tr>\n",
       "      <th>1</th>\n",
       "      <td>P2PK（Pay-to-Public-Key）</td>\n",
       "      <td>公開鍵をLocking Scriptに配置</td>\n",
       "    </tr>\n",
       "    <tr>\n",
       "      <th>2</th>\n",
       "      <td>P2SH（Pay-to-Public-Key）</td>\n",
       "      <td>複雑なスクリプトをハッシュ値でシンプルにする</td>\n",
       "    </tr>\n",
       "  </tbody>\n",
       "</table>\n",
       "</div>"
      ],
      "text/plain": [
       "                              方式                      説明\n",
       "0  P2PKH（Pay-to-Public-Key-Hash）       公開鍵のハッシュ値をLocking\n",
       "1        P2PK（Pay-to-Public-Key）   公開鍵をLocking Scriptに配置\n",
       "2        P2SH（Pay-to-Public-Key）  複雑なスクリプトをハッシュ値でシンプルにする"
      ]
     },
     "execution_count": 35,
     "metadata": {},
     "output_type": "execute_result"
    }
   ],
   "source": [
    "list = [\n",
    "    ['P2PKH（Pay-to-Public-Key-Hash）', '公開鍵のハッシュ値をLocking'],\n",
    "    ['P2PK（Pay-to-Public-Key）', '公開鍵をLocking Scriptに配置'],\n",
    "    ['P2SH（Pay-to-Public-Key）', '複雑なスクリプトをハッシュ値でシンプルにする'],\n",
    "]\n",
    "df = pd.DataFrame(list, columns=['方式', '説明'])\n",
    "df\n"
   ]
  },
  {
   "cell_type": "markdown",
   "metadata": {},
   "source": [
    "## P2PKH（Pay-to-Public-Key-Hash）\n",
    "P2PKH方式は２０１９年９月 現在、よく見かける方式で、outputに公開鍵のハッシュ値が配置される。  \n",
    "この方式のメリットは公開鍵をそのままLocking Script に配置するよりもデータ量を抑えられること。これによってトランザクションの総量が多くなっても、データ量を節約できる。"
   ]
  },
  {
   "cell_type": "code",
   "execution_count": 45,
   "metadata": {},
   "outputs": [
    {
     "name": "stdout",
     "output_type": "stream",
     "text": [
      "                                                                         \n",
      "Unlocking Script                                  <Signature><Public Key>\n",
      " Locking Scfript OP_DUP OP_HASH160 <Public Key Hash> OP_EQUAL OP_CHECKSIG\n"
     ]
    }
   ],
   "source": [
    "list = [\n",
    "    ['Unlocking Script', '<Signature><Public Key>'],\n",
    "    ['Locking Scfript', 'OP_DUP OP_HASH160 <Public Key Hash> OP_EQUAL OP_CHECKSIG'],\n",
    "]\n",
    "df = pd.DataFrame(list, columns=['',''])\n",
    "print(df.to_string(index=False))\n"
   ]
  },
  {
   "cell_type": "markdown",
   "metadata": {},
   "source": [
    "## P2PK(Pay-to-Public-Key)\n",
    "P2PK方式は、Locking Scriptに公開鍵を配置する方式で、初期に利用されていた比較的古い方式。  "
   ]
  },
  {
   "cell_type": "code",
   "execution_count": 44,
   "metadata": {},
   "outputs": [
    {
     "name": "stdout",
     "output_type": "stream",
     "text": [
      "                                        \n",
      "Unlocking Script             <Signature>\n",
      " Locking Scfript <Public Key>OP_CHECKSIG\n"
     ]
    }
   ],
   "source": [
    "list = [\n",
    "    ['Unlocking Script', '<Signature>'],\n",
    "    ['Locking Scfript', '<Public Key>OP_CHECKSIG'],\n",
    "]\n",
    "df = pd.DataFrame(list, columns=['',''])\n",
    "print(df.to_string(index=False))"
   ]
  },
  {
   "cell_type": "markdown",
   "metadata": {},
   "source": [
    "## P2SH(Pay-to-Script-Hash)\n",
    "P2SH方式は新しい方式であり、より複雑な取引を扱うことができる。  \n",
    "P2SH方式を理解するた目にはマルチシグネチャについて理解する必要がある。  \n",
    "マルチシグネチャとは、トランザクションのロックとアンロックにそれぞれ複数の鍵を使うもの。  \n",
    "登録される公開鍵をN個, 必要な署名数をM個とすると、M-of-Nと表現される。マルチシグネチャは、ビットコインを複数人で管理する際に、より現実に即した形で安全に管理できるようにと考案された。  \n",
    "マルチシグネチャをはじめとした複雑なトランザクションを扱う際、スクリプトが非常に複雑になるので、必要な公開鍵が多くなる場合、Locking Scriptに公開鍵やそのハッシュが長く並んでしまう。  \n",
    "そこで、P2SHでは、複雑なスクリプトを、暗号学的ハッシュ関数を用いてシンプルにする。 2-of-3の場合、下のようなスクリプトを使う。  "
   ]
  },
  {
   "cell_type": "code",
   "execution_count": 47,
   "metadata": {},
   "outputs": [
    {
     "name": "stdout",
     "output_type": "stream",
     "text": [
      "                                                                \n",
      "Unlocking Script  OP_0 <signature A><signature B><Redeem Script>\n",
      "  Locking Script          OP_HASH160 <RedeemScriptHash> OP_EQUAL\n",
      "   Redeem Script 2 pubkey A pubkey B pubkey C 3 OP_CHECKMULTISIG\n"
     ]
    }
   ],
   "source": [
    "list = [\n",
    "    ['Unlocking Script', 'OP_0 <signature A><signature B><Redeem Script>'],\n",
    "    ['Locking Script', 'OP_HASH160 <RedeemScriptHash> OP_EQUAL'],\n",
    "    ['Redeem Script','2 pubkey A pubkey B pubkey C 3 OP_CHECKMULTISIG'],\n",
    "]\n",
    "df = pd.DataFrame(list, columns=['',''])\n",
    "print(df.to_string(index=False))"
   ]
  },
  {
   "cell_type": "markdown",
   "metadata": {},
   "source": [
    "P2SHの場合、Redeem Script と Locking Script が初めに検証される。  \n",
    "Reedeem Script から Locking Script の順にスタックへ実行され、この結果が正しければ次に　Unlocking Script が　Redeem Script を解除するために実行される。  \n",
    "P2SHは、P2PKHやP2PKと比べると　Redeem Script が新しく登場しており、そのハッシュ値がLocking Script に配置されている点が特徴的である。  \n",
    "複雑で冗長になっている部分を切り出して、ハッシュ化することでよりシンプルに扱うことができるようになっている。"
   ]
  }
 ],
 "metadata": {
  "interpreter": {
   "hash": "aee8b7b246df8f9039afb4144a1f6fd8d2ca17a180786b69acc140d282b71a49"
  },
  "kernelspec": {
   "display_name": "Python 3.8.1 64-bit",
   "language": "python",
   "name": "python3"
  },
  "language_info": {
   "codemirror_mode": {
    "name": "ipython",
    "version": 3
   },
   "file_extension": ".py",
   "mimetype": "text/x-python",
   "name": "python",
   "nbconvert_exporter": "python",
   "pygments_lexer": "ipython3",
   "version": "3.8.1"
  },
  "orig_nbformat": 4
 },
 "nbformat": 4,
 "nbformat_minor": 2
}
