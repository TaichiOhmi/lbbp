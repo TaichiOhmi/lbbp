{
 "cells": [
  {
   "cell_type": "markdown",
   "metadata": {},
   "source": [
    "# マークルルート\n",
    "ブロックヘッダにはブロックに格納されているトランザクションを要約した値であるマークルルートというフィールドが32バイト存在する。\n",
    "## マークルルートの復習\n",
    "`マークルルート`は、あるブロックないに格納されているトランザクションデータを要約した32バイトのデータのこと。  \n",
    "トランザクションデータを並べ、隣り合ったデータをセットにしつつ、Double-SHA256でハッシュ化し、ハッシュ値が１つだけになるまで繰り返す。  \n",
    "この時にハッシュ値によって形成されるデータ構造を`マークルツリー`と呼ぶ。  \n",
    "マークルルートを計算する際に、トランザクションデータ数の合計が奇数の場合は最後のデータを複製して合計を偶数にすることで計算を行う.  \n",
    "また、特定のトランザクションデータを検証する際に用いられるハッシュ値の組み合わせを`マークルパス`と呼ぶ。\n",
    "## マークルルートとマークルツリーの意義\n",
    "マークルルートとマークルツリーは、トランザクションデータがブロックに格納されているかどうかの検証を容易にするために実装された。  \n",
    "ビットコインをはじめとするブロックチェーンでは、フルノードを立てれば単体でもトランザクションやブロックの正しさを検証することが可能だが、SPVノードの場合、フルノードに問い合わせることでトランザクションの正しさを検証する。  \n",
    "この時に利用されるのが、マークルルートで、実際の検証の際はマークルルートとマークルパスを利用する。  \n",
    "検証したい時は当該トランザクションデータのDouble-SHA256を計算し、その後、マークルルートとマークルパスを問い合わせて入手する。  \n",
    "TX3を検証したい時に必要なマークルパスは「H4, H12, H5677」となり、算出したトランザクションのハッシュ値とマークルパスを計算していきハッシュ値を算出する。  \n",
    "ここで算出されたハッシュ値とマークルルートが一致するかを検証し、同じであれば当該トランザクションは確かにブロックに格納されている正しいデータであると証明できる。  \n",
    "## マークルルートの実装方針\n",
    "マークルルートを実装する際の基本方針は以下の通り  \n",
    "- トランザクションデータを整列させる\n",
    "- トランザクションデータ数の合計が奇数の倍は最後のデータを複製する\n",
    "- 先頭から順番に２つずつまとめてハッシュ化する\n",
    "- 最後の１つになるまで、まとめてハッシュ化を繰り返す  \n",
    "マークルルートの算出において'肝'になるポイントは、トランザクションデータの規定しておくこと。  \n",
    "ハッシュ関数は入力値が少しでも変わると出力されるデータが大きく変わるので、格納されているトランザクションデータの内容が同じでも、順番が異なるだけで結果が大きく変わってしまう。  \n",
    "## マークルルートを計算してみる\n",
    "以下の11個のトランザクションデータからマークルルートを算出する"
   ]
  },
  {
   "cell_type": "code",
   "execution_count": null,
   "metadata": {},
   "outputs": [],
   "source": [
    "[\n",
    "\"e7c6a5c20318e99e7a2fe7e9c534fae52d402ef6544afd85a0a1a22a8d09783a\",\n",
    "\"3fe7ac92b9d20c9b5fb1ba21008b41eb1208af50a7021694f7f73fd37e914b67\",\n",
    "\"b3a37d774cd5f15be1ee472e8c877bcc54ab8ea00f25d34ef11e76a17ecbb67c\",\n",
    "\"dcc75a59bcee8a4617b8f0fc66d1444fea3574addf9ed1e0631ae85ff6c65939\",\n",
    "\"59639ffc15ef30860d11da02733c2f910c43e600640996ee17f0b12fd0cb51e9\",\n",
    "\"0e942bb178dbf7ae40d36d238d559427429641689a379fc43929f15275a75fa6\",\n",
    "\"5ea33197f7b956644d75261e3c03eefeeea43823b3de771e92371f3d630d4c56\",\n",
    "\"55696d0a3686df2eb51aae49ca0a0ae42043ea5591aa0b6d755020bdb64887f6\",\n",
    "\"2255724fd367389c2aabfff9d5eb51d08eda0d7fed01f3f9d0527693572c08f6\",\n",
    "\"c8329c18492c5f6ee61eb56dab52576b1de48bbb1d7f6aa7f0387f9b3b63722e\",\n",
    "\"34b7f053f77406456676fdd3d1e4ac858b69b54daf3949806c2c92ca70d3b88d\"\n",
    "]"
   ]
  },
  {
   "cell_type": "code",
   "execution_count": 1,
   "metadata": {},
   "outputs": [
    {
     "name": "stdout",
     "output_type": "stream",
     "text": [
      "45ce9219fbff637dbe398f21c765081c511d54b9758755875e764f488c21cfc2\n"
     ]
    }
   ],
   "source": [
    "import hashlib\n",
    "\n",
    "def sha256(data):\n",
    "    return hashlib.sha256(data.encode()).hexdigest()\n",
    "\n",
    "class MerkleTree():\n",
    "    # まず tx_list を定義\n",
    "    def __init__(self, tx_list):\n",
    "        self.tx_list = tx_list\n",
    "\n",
    "    # マークルルートを算出する処理\n",
    "    def calc_merkleroot(self):\n",
    "        # トランザクションデータのリストをtxsに格納。\n",
    "        txs = self.tx_list\n",
    "        # もし、トランザクションデータが１つだけの時、\n",
    "        if len(txs) == 1:\n",
    "            # その１つを返す。\n",
    "            return txs[0]\n",
    "        # 配列のデータが１つだけになるように計算していく\n",
    "        while len(txs) > 1:\n",
    "            # txtの数が奇数の場合、\n",
    "            if len(txs) % 2 == 1:\n",
    "                # 最後の要素をコピーして追加\n",
    "                txs.append(txs[-1])\n",
    "            # ハッシュ値を格納する空の配列を用意\n",
    "            hashes = []\n",
    "            # 隣り合う要素を結合してハッシュ化する処理を行う。\n",
    "            # for文によって、0から配列の要素数まで2つ刻み、つまり要素数の半分の回数で繰り返し処理を行う。\n",
    "            # これによって先頭から2つずつセットにしてハッシュ値を計算する\n",
    "            for i in range(0, len(txs), 2):\n",
    "                # 引数に与えられた配列の隣り合う要素についてjoinメソッドを離礁して結合したのち、sha256でハッシュ化した値を先ほど用意したhashesの配列に追加\n",
    "                hashes.append(sha256(\"\".join(txs[i:i + 2])))\n",
    "            # txsをhashesにし、繰り返す\n",
    "            txs = hashes\n",
    "        return txs[0]\n",
    "\n",
    "if __name__ == \"__main__\":\n",
    "    txs = [\n",
    "        \"e7c6a5c20318e99e7a2fe7e9c534fae52d402ef6544afd85a0a1a22a8d09783a\",\n",
    "        \"3fe7ac92b9d20c9b5fb1ba21008b41eb1208af50a7021694f7f73fd37e914b67\",\n",
    "        \"b3a37d774cd5f15be1ee472e8c877bcc54ab8ea00f25d34ef11e76a17ecbb67c\",\n",
    "        \"dcc75a59bcee8a4617b8f0fc66d1444fea3574addf9ed1e0631ae85ff6c65939\",\n",
    "        \"59639ffc15ef30860d11da02733c2f910c43e600640996ee17f0b12fd0cb51e9\",\n",
    "        \"0e942bb178dbf7ae40d36d238d559427429641689a379fc43929f15275a75fa6\",\n",
    "        \"5ea33197f7b956644d75261e3c03eefeeea43823b3de771e92371f3d630d4c56\",\n",
    "        \"55696d0a3686df2eb51aae49ca0a0ae42043ea5591aa0b6d755020bdb64887f6\",\n",
    "        \"2255724fd367389c2aabfff9d5eb51d08eda0d7fed01f3f9d0527693572c08f6\",\n",
    "        \"c8329c18492c5f6ee61eb56dab52576b1de48bbb1d7f6aa7f0387f9b3b63722e\",\n",
    "        \"34b7f053f77406456676fdd3d1e4ac858b69b54daf3949806c2c92ca70d3b88d\"\n",
    "    ]\n",
    "\n",
    "    mt = MerkleTree(txs)\n",
    "\n",
    "    print(mt.calc_merkleroot())"
   ]
  }
 ],
 "metadata": {
  "interpreter": {
   "hash": "aee8b7b246df8f9039afb4144a1f6fd8d2ca17a180786b69acc140d282b71a49"
  },
  "kernelspec": {
   "display_name": "Python 3.8.1 64-bit",
   "language": "python",
   "name": "python3"
  },
  "language_info": {
   "codemirror_mode": {
    "name": "ipython",
    "version": 3
   },
   "file_extension": ".py",
   "mimetype": "text/x-python",
   "name": "python",
   "nbconvert_exporter": "python",
   "pygments_lexer": "ipython3",
   "version": "3.8.1"
  },
  "orig_nbformat": 4
 },
 "nbformat": 4,
 "nbformat_minor": 2
}
