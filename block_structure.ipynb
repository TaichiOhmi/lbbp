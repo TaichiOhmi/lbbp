{
 "cells": [
  {
   "cell_type": "markdown",
   "metadata": {},
   "source": [
    "# ブロックの中身"
   ]
  },
  {
   "cell_type": "markdown",
   "metadata": {},
   "source": [
    "## ブロック内部の構造要素\n",
    "\n",
    "- magicnum: uint32(32ビット符号なし整数配列)\n",
    "- blocksizew: uint32(32ビット符号なし整数配列)\n",
    "- blockheader: ブロックヘッダに関する情報\n",
    "- Txsvi: 取引の数\n",
    "- Txs: 取引のリスト\n",
    "\n",
    "この中でも, `ブロックヘッダ(blockheader)` と `トランザクション(Txsci, Txs)`　が特に重要！"
   ]
  },
  {
   "cell_type": "markdown",
   "metadata": {},
   "source": [
    "## ブロックヘッダ\n",
    "\n",
    "ブロックヘッダには\n",
    "\n",
    "- Version\n",
    "    - ビットフィールド、4バイト\n",
    "- Prev block has\n",
    "    - １つ前のブロックのハッシュ値、32バイト\n",
    "- Merkleroot\n",
    "    - ハッシュ関数を使って取引を要約したハッシュ値、32バイト\n",
    "- Time\n",
    "    - ブロックが生成された時間を示すタイムスタンプ、4バイト\n",
    "- Bits\n",
    "    - マイニングの難易度、4バイト\n",
    "- Nonce\n",
    "    - マイニングで条件を満たしたナンス値、4バイト\n",
    "\n",
    "が含まれている。\n",
    "\n",
    "Prev block hash は１つ前のブロックヘッダにハッシュ関数をかけることで生成されるので、それが鎖のように取り込まれていく。この構造を`ハッシュチェーン`と呼ぶこともある。"
   ]
  },
  {
   "cell_type": "markdown",
   "metadata": {},
   "source": [
    "## トランザクション"
   ]
  },
  {
   "cell_type": "markdown",
   "metadata": {},
   "source": [
    "マイニングを経て取り込まれるトランザクションの数は多くて3000ほどで、リストとして格納されている。  \n",
    "基本的には取引のリストをただ格納しているだけだが、依存関係のある取引の場合は、親に当たる取引を先に入れておく必要がある。(そういう決まりがあるから)   \n",
    "だが、取引データの順番を考慮してブロックに格納することは不特定多数のマイナーがマイニングする際に、ブロックの順番に関する情報までやり取りしなければいけなくなるので、効率が悪い。  \n",
    "そこで、CTOR(Canonical Transaction Ordering Rule) 方式というハッシュ値をアルファベット順で並べるという方式も採用されている。  "
   ]
  },
  {
   "cell_type": "markdown",
   "metadata": {},
   "source": [
    "トランザクションは`マークルツリー(MerkLetree)`というデータ構造を用いてハッシュ化し、`マークルルート(Merkleroot)`として要約される。  \n",
    "マークルルートはそのブロックのブロックヘッダに格納され、トランザクションが正しいものかを検証する際に使われる。"
   ]
  },
  {
   "cell_type": "code",
   "execution_count": null,
   "metadata": {},
   "outputs": [],
   "source": []
  }
 ],
 "metadata": {
  "language_info": {
   "name": "python"
  },
  "orig_nbformat": 4
 },
 "nbformat": 4,
 "nbformat_minor": 2
}
