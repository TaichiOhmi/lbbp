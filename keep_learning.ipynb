{
 "cells": [
  {
   "cell_type": "markdown",
   "metadata": {},
   "source": [
    "### 公式の情報源\n",
    "BIP：ビットコインシステムを改善するために提案され、議論されている  \n",
    "URL: https://github.com/bitcoin/bips  \n",
    "Bitcoin.org：ビットコインコアの開発を行なっている組織の見解などが発表されている  \n",
    "URL: https://bitcoin.org/ja/  \n",
    "Blockstream：ブロックチェーン技術に関して多くの技術革新をリードしている組織の公式情報が発表されている。  \n",
    "URL: https://blockstream.com/  "
   ]
  },
  {
   "cell_type": "markdown",
   "metadata": {},
   "source": [
    "### ブロックチェーン全般の情報源\n",
    "LayerX Research：日本のテクノロジー企業LayerXが調査研究した成果を発表  \n",
    "URL: https://scrapbox.io/layerx  \n",
    "arXiv：最新の論文が一般公開されているプラットフォーム  \n",
    "URL: https://arxiv.org/  \n",
    "Cryptoeconomics Lab：ブロックチェーンでの利用者の行動を経済学的な観点から分析する情報コミュニティ  \n",
    "https://www.cryptoeconomicslab.com/, https://github.com/cryptoeconomicslab/gazelle  \n",
    "Cointelegraph：ブロックチェーン利用に関する最新ニュースを発信しているメディア  \n",
    "URL: https://jp.cointelegraph.com/  \n",
    "Coindesk：ブロックチェーン利用に関する最新ニュースを発信しているメディア  \n",
    "URL: https://www.coindesk.com/"
   ]
  },
  {
   "cell_type": "markdown",
   "metadata": {},
   "source": [
    "### オンラインのみの学習サービス\n",
    "CryptoZombies：Ethereum上でのゲームの開発を通じて、Solidityでのスマートコントラクトの構築を学ぶ  \n",
    "URL: https://cryptozombies.io/jp/  \n",
    "BLOCKCHAIN Code Camp：Solidityでのブロックチェーンアプリケーション開発をブログラミング未経験から学べる  \n",
    "URL: https://lp.blockchaincodecamp.jp/  \n",
    "ブロックチェーン・ビジネス活用コース　オンライン：講義動画や確認問題、終了課題を通じて事業プランナーやコンサルタントとして活躍する力を身につける  \n",
    "URL: https://www.istudy.co.jp/academy/lms-block-chain  \n",
    "EnterChain：ブラウザ上でjsコードを触って、作って理解する  \n",
    "URL: https://enterchain.online/top  \n",
    "PoL (Proof of Learning)：学習するほどトークンがもらえるスタイルで、\"ゲーム感覚\"で取り組むことができる。  \n",
    "URL: https://pol.techtec.world/"
   ]
  },
  {
   "cell_type": "markdown",
   "metadata": {},
   "source": [
    "### オフライン中心の学習サービス\n",
    "FLOC ブロックチェーン大学校：ベーシックコース、ビジネスコース、エンジニアコースの他、分野特化型のゼミを開講。期間は一年間  \n",
    "URL: https://floc.jp\n",
    "HashHub ブロックチェーン集中講座：ビジネス集中講座とエンジニア集中講座があり、受講者はオンラインでの質問受付とコワーキングスーエスの利用が可能。期間は約２ヶ月。  \n",
    "URL: https://www.blockchain-edu.jp(終了)  \n",
    "Unchained 短期集中育成プログラム：新規事業を担う企業内イノベーター向け。期間は５日間(1日間のライト版もあり)  \n",
    "URL: https://unchained.tokyo/\n",
    "ブロックチェーンアプリ開発集中講座：エンジニア向け(Ethereumでの開発)で期間は約１ヶ月。  \n",
    "URL: https://acompany.tech/blockchainLecture/index.html(終了)"
   ]
  }
 ],
 "metadata": {
  "language_info": {
   "name": "python"
  },
  "orig_nbformat": 4
 },
 "nbformat": 4,
 "nbformat_minor": 2
}
