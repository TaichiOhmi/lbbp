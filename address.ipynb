{
 "cells": [
  {
   "cell_type": "markdown",
   "metadata": {},
   "source": [
    "# アドレスの生成\n",
    "## 可読性を高める工夫\n",
    "予測されない秘密鍵を作成し、それを元に逆算できない公開鍵を生成したことで、ある程度の秘匿性を確保することができた。  \n",
    "しかし、公開鍵は文字列が長く、可読性が低いため、エンコードを行なって誤読を防ぐという工夫がされる。  \n",
    "具体的には、人が読みやすい形にするため、ハッシュ関数として RIPEMD-160 を利用して文字量を減らしたり、Base56Check エンコードを行ったりされる。  \n",
    "## Base58\n",
    "Base58とは、人が読み間違い安い文字列を排除したエンコード方式であり、アドレスを入力したり、書き取ったりする際に間違えにくいようにする手法。  \n",
    "具体的には、数字の０やアルファベットのO,　小文字のlと大文字のI, プラス＋やスラッシュ/などが使われないようにする。\n",
    "## Base58Check\n",
    "公開鍵からアドレスを生成する際は、チェックサムを利用したBase58Checkが利用される。  \n",
    "チェックサムはデータが間違っていないかどうかを確認するための手法で、元のデータから算出できるデータの一部を付加して利用する。  \n",
    "これはBase58Checkエンコードの際に、チェックサムを読み込むことで記入ミスを発見できるようにするもの。  \n",
    "ここでのチェックサムは、公開鍵のハッシュ値とその先頭にバージョンバイトをつなげたものからSHA-256で２回ハッシュ化したものの先頭4バイトを利用する。\n",
    "なので、バージョンバイト＋公開鍵のハッシュ値＋チェックサム をBase58エンコードすることによってアドレスは作られる。\n",
    "## アドレスを生成する\n",
    "公開鍵からアドレスを作るプロセス\n",
    "1. 公開鍵をSHA-256でハッシュ値①にハッシュ化\n",
    "2. ハッシュ値①を RIPEMD-160 でハッシュ値② にハッシュ化\n",
    "3. ハッシュ値②を Base58Checkエンコード"
   ]
  },
  {
   "cell_type": "code",
   "execution_count": 1,
   "metadata": {},
   "outputs": [
    {
     "name": "stdout",
     "output_type": "stream",
     "text": [
      "1FZKPNYSiGQYWXi8souRRrKNiU814NdNDg\n"
     ]
    }
   ],
   "source": [
    "import os\n",
    "import ecdsa\n",
    "import hashlib\n",
    "import base58\n",
    "\n",
    "private_key = os.urandom(32)\n",
    "public_key = ecdsa.SigningKey.from_string(private_key, curve=ecdsa.SECP256k1).verifying_key.to_string()\n",
    "\n",
    "# 非圧縮公開鍵のプレフィックスの04を公開鍵に付加\n",
    "prefix_and_pubkey = b\"\\x04\" + public_key\n",
    "\n",
    "# ハッシュ160を生成\n",
    "intermediate = hashlib.sha256(prefix_and_pubkey).digest()\n",
    "ripemd160 = hashlib.new('ripemd160')\n",
    "ripemd160.update(intermediate)\n",
    "hash160 = ripemd160.digest()\n",
    "\n",
    "# 公開鍵のハッシュのバージョンプレフィックスである00と公開鍵八種を合体。\n",
    "prefix_and_hash160 = b\"\\x00\" + hash160\n",
    "\n",
    "#hashlib.sha256が入れ子になっていることを確認！\n",
    "double_hash = hashlib.sha256(hashlib.sha256(prefix_and_hash160).digest()).digest()\n",
    "# 先頭の４バイトを取り出す。\n",
    "checksum = double_hash[:4]\n",
    "# チェックサムを取り出し、Base58エンコードすることでアドレスを生成\n",
    "pre_address = prefix_and_hash160 + checksum\n",
    "\n",
    "address = base58.b58encode(pre_address)\n",
    "print(address.decode())\n"
   ]
  }
 ],
 "metadata": {
  "interpreter": {
   "hash": "aee8b7b246df8f9039afb4144a1f6fd8d2ca17a180786b69acc140d282b71a49"
  },
  "kernelspec": {
   "display_name": "Python 3.8.1 64-bit",
   "language": "python",
   "name": "python3"
  },
  "language_info": {
   "codemirror_mode": {
    "name": "ipython",
    "version": 3
   },
   "file_extension": ".py",
   "mimetype": "text/x-python",
   "name": "python",
   "nbconvert_exporter": "python",
   "pygments_lexer": "ipython3",
   "version": "3.8.1"
  },
  "orig_nbformat": 4
 },
 "nbformat": 4,
 "nbformat_minor": 2
}
