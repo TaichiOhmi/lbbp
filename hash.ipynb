{
 "cells": [
  {
   "cell_type": "markdown",
   "metadata": {},
   "source": [
    "# ハッシュ関数とは\n",
    "\n",
    "ハッシュ関数は入力データをルールに基づいて他のデータに変換する関数で下のような特徴を持っている。\n",
    "\n",
    "    1. 不可逆性：一方向にしか計算できず、逆算ができない。\n",
    "        →第三者に知られたくない情報を隠すために利用される。\n",
    "    2. 機密性：入力データが少しでも変わると、出力データが大きく変わる。\n",
    "        →元のデータが改ざんされていないかを検出するために利用される。\n",
    "    3. 固定長：入力データの長さを問わず、出力データは同じ長さにになる。\n",
    "        →多くのデータを要約してサイズを圧縮することに利用される。\n",
    "    4. 処理速度：入力データから出力データを簡単に計算できる。"
   ]
  },
  {
   "cell_type": "markdown",
   "metadata": {},
   "source": [
    "## ハッシュ関数を使ってみる。"
   ]
  },
  {
   "cell_type": "code",
   "execution_count": 2,
   "metadata": {},
   "outputs": [],
   "source": [
    "#標準ライブラリの hashlib をインポート\n",
    "import hashlib\n",
    "\n",
    "def hashWord(word):\n",
    "    # b'hello' のように文字列の前に b をつけるとバイト型にできる。もしくは、str.encode()でもバイト型に変換できる。\n",
    "    # sha256()でハッシュ化し、hexdigest()で16進数の文字列にしている。\n",
    "    return hashlib.sha256(word.encode()).hexdigest()"
   ]
  },
  {
   "cell_type": "code",
   "execution_count": 15,
   "metadata": {},
   "outputs": [
    {
     "name": "stdout",
     "output_type": "stream",
     "text": [
      "「hello」のハッシュ: 2cf24dba5fb0a30e26e83b2ac5b9e29e1b161e5c1fa7425e73043362938b9824\n",
      "「hallo」のハッシュ: d3751d33f9cd5049c4af2b462735457e4d3baf130bcbb87f389e349fbaeb20b9\n",
      "「hello world!」のハッシュ: 7509e5bda0c762d2bac7f90d758b5b2263fa01ccbc542ab5e3df163be08e6ca9\n",
      "64 64 64\n"
     ]
    }
   ],
   "source": [
    "print('「hello」のハッシュ: '+hashWord('hello'))\n",
    "print('「hallo」のハッシュ: '+hashWord('hallo'))\n",
    "print('「hello world!」のハッシュ: '+hashWord('hello world!'))\n",
    "\n",
    "print(len(hashWord('hello')), len(hashWord('hallo')), len(hashWord('hello world!')))"
   ]
  },
  {
   "cell_type": "markdown",
   "metadata": {},
   "source": [
    "「hello」と「hallo」の1文字だけを変えただけで大きく出力が変わるという特徴がわかる。\n",
    "\n",
    "また、「hello world!」のように出力が大きくなっても、出力のサイズは同じだという特徴も確認できた。"
   ]
  },
  {
   "cell_type": "markdown",
   "metadata": {},
   "source": [
    "### 章末問題\n",
    "「Bonjour」を　SHA-256　に掛けてハッシュ値を計算"
   ]
  },
  {
   "cell_type": "code",
   "execution_count": 3,
   "metadata": {},
   "outputs": [
    {
     "data": {
      "text/plain": [
       "'9172e8eec99f144f72eca9a568759580edadb2cfd154857f07e657569493bc44'"
      ]
     },
     "execution_count": 3,
     "metadata": {},
     "output_type": "execute_result"
    }
   ],
   "source": [
    "hashWord('Bonjour')"
   ]
  },
  {
   "cell_type": "code",
   "execution_count": null,
   "metadata": {},
   "outputs": [],
   "source": []
  }
 ],
 "metadata": {
  "interpreter": {
   "hash": "31f2aee4e71d21fbe5cf8b01ff0e069b9275f58929596ceb00d14d90e3e16cd6"
  },
  "kernelspec": {
   "display_name": "Python 3.8.2 64-bit",
   "language": "python",
   "name": "python3"
  },
  "language_info": {
   "codemirror_mode": {
    "name": "ipython",
    "version": 3
   },
   "file_extension": ".py",
   "mimetype": "text/x-python",
   "name": "python",
   "nbconvert_exporter": "python",
   "pygments_lexer": "ipython3",
   "version": "3.8.1"
  },
  "orig_nbformat": 4
 },
 "nbformat": 4,
 "nbformat_minor": 2
}
