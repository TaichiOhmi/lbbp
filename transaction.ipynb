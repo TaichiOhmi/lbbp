{
 "cells": [
  {
   "cell_type": "markdown",
   "metadata": {},
   "source": [
    "# ビットコインブロックチェーンのトランザクション\n",
    "\n",
    "ビットコインのブロックチェーンにおけるトランザクションは input と output、その他の関連するデータから構成されています。\n",
    "\n",
    "## ビットコインにおけるトランザクションデータの構造\n",
    "\n",
    "ビットコインにおいてトランザクションデータの作成と管理はブロックチェーン技術における非常に重要な部分を占める。  \n",
    "トランザクションはどの金額が、どのように送金されたのかを表現するデータのこと。  \n",
    "トランザクションデータ自体には、誰から誰にと言った個人を特定するデータは含まれていないが、秘密鍵や公開鍵を用いた電子署名を使うことで所有権を証明する。  \n",
    "ブロックチェーンはブロック同士が数珠状につながることで前後の依存関係を形成し全体の整合性を保つのに対し、トランザクションデータも同じく数珠のように連鎖する構造をしており、主に input と output から構成されている。\n"
   ]
  },
  {
   "cell_type": "code",
   "execution_count": 13,
   "metadata": {},
   "outputs": [
    {
     "data": {
      "text/html": [
       "<div>\n",
       "<style scoped>\n",
       "    .dataframe tbody tr th:only-of-type {\n",
       "        vertical-align: middle;\n",
       "    }\n",
       "\n",
       "    .dataframe tbody tr th {\n",
       "        vertical-align: top;\n",
       "    }\n",
       "\n",
       "    .dataframe thead th {\n",
       "        text-align: right;\n",
       "    }\n",
       "</style>\n",
       "<table border=\"1\" class=\"dataframe\">\n",
       "  <thead>\n",
       "    <tr style=\"text-align: right;\">\n",
       "      <th></th>\n",
       "      <th>フィールド名</th>\n",
       "      <th>サイズ(バイト)</th>\n",
       "      <th>内容</th>\n",
       "    </tr>\n",
       "  </thead>\n",
       "  <tbody>\n",
       "    <tr>\n",
       "      <th>0</th>\n",
       "      <td>Version</td>\n",
       "      <td>4</td>\n",
       "      <td>従っているルールを指定。通常は１。トランザクションの試用期間に制約をかける場合は２が指定される</td>\n",
       "    </tr>\n",
       "    <tr>\n",
       "      <th>1</th>\n",
       "      <td>Input counter</td>\n",
       "      <td>1~9</td>\n",
       "      <td>このトランザクションデータに含まれているアウトプットデータの数</td>\n",
       "    </tr>\n",
       "    <tr>\n",
       "      <th>2</th>\n",
       "      <td>Inputs</td>\n",
       "      <td>可変</td>\n",
       "      <td>インプットデータのリスト</td>\n",
       "    </tr>\n",
       "    <tr>\n",
       "      <th>3</th>\n",
       "      <td>Output counter</td>\n",
       "      <td>1~9</td>\n",
       "      <td>このトランザクションデータに含まれているアウトプットデータの数</td>\n",
       "    </tr>\n",
       "    <tr>\n",
       "      <th>4</th>\n",
       "      <td>Outputs</td>\n",
       "      <td>可変</td>\n",
       "      <td>アウトプットデータのリスト</td>\n",
       "    </tr>\n",
       "    <tr>\n",
       "      <th>5</th>\n",
       "      <td>Locktime</td>\n",
       "      <td>4</td>\n",
       "      <td>ここで値を設定すれば、ブロックに格納される時間をしているすことができる</td>\n",
       "    </tr>\n",
       "  </tbody>\n",
       "</table>\n",
       "</div>"
      ],
      "text/plain": [
       "           フィールド名 サイズ(バイト)                                               内容\n",
       "0         Version        4  従っているルールを指定。通常は１。トランザクションの試用期間に制約をかける場合は２が指定される\n",
       "1   Input counter      1~9                  このトランザクションデータに含まれているアウトプットデータの数\n",
       "2          Inputs       可変                                     インプットデータのリスト\n",
       "3  Output counter      1~9                  このトランザクションデータに含まれているアウトプットデータの数\n",
       "4         Outputs       可変                                    アウトプットデータのリスト\n",
       "5        Locktime        4              ここで値を設定すれば、ブロックに格納される時間をしているすことができる"
      ]
     },
     "execution_count": 13,
     "metadata": {},
     "output_type": "execute_result"
    }
   ],
   "source": [
    "import pandas as pd\n",
    "list = [\n",
    "    ['Version', 4, '従っているルールを指定。通常は１。トランザクションの試用期間に制約をかける場合は２が指定される'],\n",
    "    ['Input counter', '1~9', 'このトランザクションデータに含まれているアウトプットデータの数'],\n",
    "    ['Inputs', '可変', 'インプットデータのリスト'],\n",
    "    ['Output counter', '1~9', 'このトランザクションデータに含まれているアウトプットデータの数'],\n",
    "    ['Outputs', '可変', 'アウトプットデータのリスト'],\n",
    "    ['Locktime', 4, 'ここで値を設定すれば、ブロックに格納される時間をしているすことができる']\n",
    "]\n",
    "df = pd.DataFrame(list, columns=['フィールド名', 'サイズ(バイト)', '内容'])\n",
    "df\n"
   ]
  },
  {
   "cell_type": "markdown",
   "metadata": {},
   "source": [
    "## 実際のトランザクションデータを確認\n",
    "このデータはフルノードクライアントである「BitcoinCore」を利用して立てたフルノードで取得したデータ。なお、トランザクションIDは全てのトランザクションデータに一意に設定されている。"
   ]
  },
  {
   "cell_type": "markdown",
   "metadata": {},
   "source": [
    "0000000245d50a313eb89a71bb501380334e58973b7b3c0fb4614f8645d07d728b8574aa010000008c493046022100b3c7f1c56384c6145673b94fa226af8d02a263a1ed9f3505fdf0e94cc681193e022100d677  eb3cbb9b82da961626ccfdc31a6041195123ae236b5ed1a34250c4163e73014104545e7c6d2acc161567860039bc3068d4af5432b1afe34d2909bf8996b95c10a6445692bc3f458a0503c45084f99329d5e90d84  f21a52a5d11add62eb26340db2ffffffff49de1cd30c20d1f22a2e966b0d195d20b0f133e8de426f7d1610525a64a09daf000000008b483045022100d4ea6ce46296548d38f02da337daebef00f443134f3b68f4ad8  946a961728b0402207573dc96e324037d1934fa5105a517608364a2b273e694dce53714745fa135f4014104e89667c1c2cf4eb91324debcc7742b8eb22406c59d6033794124efb7cce37b78ddd5e3c3474aeb  9dbf7689c9d36d776b7d21debe4d75142cb43a2529fb3a6da4ffffffff0100286bee00000001976a914c1ac9042b50a9d2e7a6a1b42bad66e61a9ec3f6b88ac00000000"
   ]
  },
  {
   "cell_type": "markdown",
   "metadata": {},
   "source": [
    "上のデータは１６進数でシリアライズされたデータである点に注意する必要がある。  \n",
    "このままでは可読性が低いですが、JSON形式に変換するともう少し見やすくなる。"
   ]
  },
  {
   "cell_type": "code",
   "execution_count": null,
   "metadata": {},
   "outputs": [],
   "source": [
    "{\n",
    "    # このトランザクションのID。トランザクションにはそれぞれ一意にIDが設定されている。\n",
    "  \"txid\": \"0e942bb178dbf7ae40d36d238d559427429641689a379fc43929f15275a75fa6\",    　\n",
    "  \"hash\": \"0e942bb178dbf7ae40d36d238d559427429641689a379fc43929f15275a75fa6\",\n",
    "  \"version\": 1,\n",
    "  \"size\": 405,\n",
    "  \"vsize\": 405,\n",
    "  \"weight\": 1620,\n",
    "  \"locktime\": 0,\n",
    "\n",
    "  # vin と vout がそれぞれトランザクションのインプットデータとアウトプットデータ\n",
    "\n",
    "  # インプットデータ部分\n",
    "  # この例では、２つのデータが配列に格納されている。\n",
    "  # txid と vout を利用することで、どのトランザクションの、どのアウトプットデータを参照しているのかを一意に定めることができる。\n",
    "  \"vin\": [\n",
    "    {\n",
    "        # txid の部分で参照する トランザクションID を指定\n",
    "      \"txid\": \"aa74858b727dd045864f61b40f3c7b3b97584e33801350bb719ab83e310ad545\",\n",
    "       # vout の部分で何番目のアウトプットデータを使っているのかを指定。\n",
    "      \"vout\": 1,\n",
    "      \"scriptSig\": {\n",
    "        \"asm\": \"3046022100b3c7f1c56384c6145673b94fa226af8d02a263a1ed9f3505fdf0e94cc681193e022100d677eb3cbb9b82da961626ccfdc31a6041195123ae236b5ed1a34250c4163e73[ALL] 04545e7c6d2acc161567860039bc3068d4af5432b1afe34d2909bf8996b95c10a6445692bc3f458a0503c45084f99329d5e90d84f21a52a5d11add62eb26340db2\"\n",
    "        \"hex\": \"493046022100b3c7f1c56384c6145673b94fa226af8d02a263a1ed9f3505fdf0e94cc681193e022100d677eb3cbb9b82da961626ccfdc31a6041195123ae236b5ed1a34250c4163e73014104545e7c6d2acc161567860039bc3068d4af5432b1afe34d2909bf8996b95c10a6445692bc3f458a0503c45084f99329d5e90d84f21a52a5d11add62eb26340db2\"\n",
    "      },\n",
    "      \"sequence\": 4294967295\n",
    "    },\n",
    "    {\n",
    "      \"txid\": \"af9da0645a5210167d6f42dee833f1b0205d190d6b962e2af2d1200cd31cde49\",\n",
    "      \"vout\": 0,\n",
    "      \"scriptSig\": {\n",
    "        \"asm\": \"3045022100d4ea6ce46296548d38f02da337daebef00f443134f3b68f4ad8946a961728b0402207573dc96e324037d1934fa5105a517608364a2b273e694dce53714745fa135f4[ALL] 04e89667c1c2cf4eb91324debcc7742b8eb22406c59d6033794124efb7cce37b78ddd5e3c3474aeb9dbf7689c9d36d776b7d21debe4d75142cb43a2529fb3a6da4\",\n",
    "        \"hex\": \"483045022100d4ea6ce46296548d38f02da337daebef00f443134f3b68f4ad8946a961728b0402207573dc96e324037d1934fa5105a517608364a2b273e694dce53714745fa135f4014104e89667c1c2cf4eb91324debcc7742b8eb22406c59d6033794124efb7cce37b78ddd5e3c3474aeb9dbf7689c9d36d776b7d21debe4d75142cb43a2529fb3a6da4\"\n",
    "      },\n",
    "      \"sequence\": 4294967295\n",
    "    }\n",
    "  ],\n",
    "\n",
    "  # アウトプットデータの部分。\n",
    "  # この例だと、１つだけ格納されている。\n",
    "  # 金額や送金先のアドレスなどが含まれている、\n",
    "  \"vout\": [\n",
    "    {\n",
    "      \"value\": 40.00000000,\n",
    "      \"n\": 0,\n",
    "      \"scriptPubKey\": {\n",
    "          \"asm\": \"OP_DUP OP_HASH160 c1ac9042b50a9d2e7a6a1b42bad66e61a9ec3f6b OPEQUALVERIFY OP_CHECKSIG\",\n",
    "          \"hex\": \"76a914c1ac9042b50a9d2e7a6a1b42bad66e61a9ec3f6b88ac\",\n",
    "          \"reqSigs\": 1,\n",
    "          \"type\": \"pubkeyhas\",\n",
    "          \"addresses\": [\n",
    "              \"1Jf48wufcDpPQ2EEgX1jUULuTHVzDhqBSF\"\n",
    "          ]\n",
    "      }\n",
    "    }\n",
    "  ]\n",
    "}"
   ]
  },
  {
   "cell_type": "markdown",
   "metadata": {},
   "source": [
    "## トランザクションデータの取得\n",
    "上のトランザクションデータは、BitcoinCoreでフルノードを立て取得したデータでしたが、わざわざフルノードを立てなくとも公開APIを取得することでデータを取得できる。  \n",
    "まず、今回は blockchain.info というWebサービスの公開APIを利用する。(smartbit などのサービスも利用可能)  \n",
    "このように公開APIを利用すれば、自前で全てのデータを持ち合わせなくとも必要なデータを取得できる。  \n",
    "Pythonでは、requests というサードパーティ製のパッケージを利用してAPIを利用する。  \n",
    "このパッケージは簡単にHTTP通信を行うことができ、公開APIのURLを指定することでデータを提供したり取得することができる。"
   ]
  },
  {
   "cell_type": "code",
   "execution_count": 17,
   "metadata": {},
   "outputs": [
    {
     "name": "stdout",
     "output_type": "stream",
     "text": [
      "010000000245d50a313eb89a71bb501380334e58973b7b3c0fb4614f8645d07d728b8574aa010000008c493046022100b3c7f1c56384c6145673b94fa226af8d02a263a1ed9f3505fdf0e94cc681193e022100d677eb3cbb9b82da961626ccfdc31a6041195123ae236b5ed1a34250c4163e73014104545e7c6d2acc161567860039bc3068d4af5432b1afe34d2909bf8996b95c10a6445692bc3f458a0503c45084f99329d5e90d84f21a52a5d11add62eb26340db2ffffffff49de1cd30c20d1f22a2e966b0d195d20b0f133e8de426f7d1610525a64a09daf000000008b483045022100d4ea6ce46296548d38f02da337daebef00f443134f3b68f4ad8946a961728b0402207573dc96e324037d1934fa5105a517608364a2b273e694dce53714745fa135f4014104e89667c1c2cf4eb91324debcc7742b8eb22406c59d6033794124efb7cce37b78ddd5e3c3474aeb9dbf7689c9d36d776b7d21debe4d75142cb43a2529fb3a6da4ffffffff0100286bee000000001976a914c1ac9042b50a9d2e7a6a1b42bad66e61a9ec3f6b88ac00000000\n"
     ]
    }
   ],
   "source": [
    "import requests\n",
    "\n",
    "API_URL = \"https://blockchain.info/rawtx/\"\n",
    "TXID = \"0e942bb178dbf7ae40d36d238d559427429641689a379fc43929f15275a75fa6\"\n",
    "\n",
    "r = requests.get(API_URL + TXID + \"?format=hex\")\n",
    "print(r.text)"
   ]
  },
  {
   "cell_type": "code",
   "execution_count": 18,
   "metadata": {},
   "outputs": [
    {
     "name": "stdout",
     "output_type": "stream",
     "text": [
      "{\"hash\":\"0e942bb178dbf7ae40d36d238d559427429641689a379fc43929f15275a75fa6\",\"ver\":1,\"vin_sz\":2,\"vout_sz\":1,\"size\":405,\"weight\":1620,\"fee\":0,\"relayed_by\":\"0.0.0.0\",\"lock_time\":0,\"tx_index\":5853752370814501,\"double_spend\":false,\"time\":1298920129,\"block_index\":111111,\"block_height\":111111,\"inputs\":[{\"sequence\":4294967295,\"witness\":\"\",\"script\":\"493046022100b3c7f1c56384c6145673b94fa226af8d02a263a1ed9f3505fdf0e94cc681193e022100d677eb3cbb9b82da961626ccfdc31a6041195123ae236b5ed1a34250c4163e73014104545e7c6d2acc161567860039bc3068d4af5432b1afe34d2909bf8996b95c10a6445692bc3f458a0503c45084f99329d5e90d84f21a52a5d11add62eb26340db2\",\"index\":0,\"prev_out\":{\"tx_index\":2457001643202323,\"value\":500000000,\"n\":1,\"type\":0,\"spent\":true,\"script\":\"76a91471c4f6b0f56fef3cbdbae6f297631a27ab159f9888ac\",\"spending_outpoints\":[{\"tx_index\":5853752370814501,\"n\":0}],\"addr\":\"1BNZJx7pM4GTqe8MgEZoji2fUS3fKnJH2i\"}},{\"sequence\":4294967295,\"witness\":\"\",\"script\":\"483045022100d4ea6ce46296548d38f02da337daebef00f443134f3b68f4ad8946a961728b0402207573dc96e324037d1934fa5105a517608364a2b273e694dce53714745fa135f4014104e89667c1c2cf4eb91324debcc7742b8eb22406c59d6033794124efb7cce37b78ddd5e3c3474aeb9dbf7689c9d36d776b7d21debe4d75142cb43a2529fb3a6da4\",\"index\":1,\"prev_out\":{\"tx_index\":2598986085139482,\"value\":3500000000,\"n\":0,\"type\":0,\"spent\":true,\"script\":\"76a9144be0a14399e3aad60a761f2e3f658902548423e788ac\",\"spending_outpoints\":[{\"tx_index\":5853752370814501,\"n\":1}],\"addr\":\"17vCmx3McuR3Z7ch2Nz83EoJN9J9p1dvdy\"}}],\"out\":[{\"type\":0,\"spent\":false,\"value\":4000000000,\"spending_outpoints\":[],\"n\":0,\"tx_index\":5853752370814501,\"script\":\"76a914c1ac9042b50a9d2e7a6a1b42bad66e61a9ec3f6b88ac\",\"addr\":\"1Jf48wufcDpPQ2EEgX1jUULuTHVzDhqBSF\"}]}\n"
     ]
    }
   ],
   "source": [
    "import requests\n",
    "\n",
    "API_URL = \"https://blockchain.info/rawtx/\"\n",
    "TXID = \"0e942bb178dbf7ae40d36d238d559427429641689a379fc43929f15275a75fa6\"\n",
    "\n",
    "r = requests.get(API_URL + TXID)\n",
    "print(r.text)"
   ]
  },
  {
   "cell_type": "code",
   "execution_count": null,
   "metadata": {},
   "outputs": [],
   "source": []
  }
 ],
 "metadata": {
  "interpreter": {
   "hash": "aee8b7b246df8f9039afb4144a1f6fd8d2ca17a180786b69acc140d282b71a49"
  },
  "kernelspec": {
   "display_name": "Python 3.8.1 64-bit",
   "language": "python",
   "name": "python3"
  },
  "language_info": {
   "codemirror_mode": {
    "name": "ipython",
    "version": 3
   },
   "file_extension": ".py",
   "mimetype": "text/x-python",
   "name": "python",
   "nbconvert_exporter": "python",
   "pygments_lexer": "ipython3",
   "version": "3.8.1"
  },
  "orig_nbformat": 4
 },
 "nbformat": 4,
 "nbformat_minor": 2
}
